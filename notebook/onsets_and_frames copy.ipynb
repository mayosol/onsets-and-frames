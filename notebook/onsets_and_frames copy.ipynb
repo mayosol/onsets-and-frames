{
 "cells": [
  {
   "cell_type": "markdown",
   "metadata": {},
   "source": [
    "## Data Unzip"
   ]
  },
  {
   "cell_type": "code",
   "execution_count": 1,
   "metadata": {},
   "outputs": [],
   "source": [
    "import numpy as np\n",
    "from torch.utils.data import DataLoader\n",
    "from tqdm import tqdm\n",
    "import random\n",
    "\n",
    "import torch\n",
    "import torch.nn as nn\n",
    "import torchaudio\n",
    "import IPython.display as ipd\n",
    "import matplotlib.pyplot as plt\n",
    "from pathlib import Path\n",
    "import zipfile\n",
    "from glob import glob\n",
    "\n",
    "import pretty_midi\n",
    "pretty_midi.pretty_midi.MAX_TICK = 1e10\n",
    "\n",
    "torch.set_printoptions(sci_mode=False)"
   ]
  },
  {
   "cell_type": "code",
   "execution_count": 2,
   "metadata": {},
   "outputs": [],
   "source": [
    "maps_path = Path('/home/dasol/userdata/onsets-and-frames/maps')\n",
    "\n",
    "# UNZIP\n",
    "maps_piano_path = list(maps_path.rglob('*_2.zip'))\n",
    "# for path in maps_piano_path:\n",
    "#     zipfile.ZipFile(path).extractall(maps_path)"
   ]
  },
  {
   "cell_type": "code",
   "execution_count": 3,
   "metadata": {},
   "outputs": [],
   "source": [
    "def time2frame(time, sr=16000, hop_length=512):\n",
    "    return round((time * sr) / hop_length)"
   ]
  },
  {
   "cell_type": "code",
   "execution_count": 4,
   "metadata": {},
   "outputs": [],
   "source": [
    "class MAPSDataset:\n",
    "    def __init__(self, dir_path, split, sr=16000):\n",
    "        self.sr = sr\n",
    "        self.hop_length = 512\n",
    "        self.dir_path = list(dir_path.glob('./*/*/'))\n",
    "        self.frame_per_sec =  self.sr/self.hop_length\n",
    "\n",
    "        # split train, test set\n",
    "        train_folder = ['AkPnBcht', 'AkPnBsdf', 'AkPnCGdD', 'AkPnStgb', 'SptkBGAm', 'SptkBGCl', 'StbgTGd2']\n",
    "        test_folder = ['ENSTDkAm', 'ENSTDkCl']\n",
    "        self.target_folder = train_folder if split=='train' else test_folder\n",
    "\n",
    "        self._load_data()\n",
    "\n",
    "    def get_piano_roll(self, path):\n",
    "        # make label - total\n",
    "        midi = pretty_midi.PrettyMIDI(midi_file=path)\n",
    "        total = midi.get_piano_roll(fs=self.frame_per_sec, times=None, pedal_threshold=64)\n",
    "        total[total > 0] = 1 # remove velocity\n",
    "        total = total[21:109]\n",
    "        # make label - onset\n",
    "        onset = np.zeros_like(total)\n",
    "        for note in midi.instruments[0].notes:\n",
    "            onset[int(note.pitch) - 21, int(note.start * self.frame_per_sec)] = 1\n",
    "        pianoroll = np.stack([total, onset], axis=0)\n",
    "        return pianoroll\n",
    "\n",
    "    def _load_data(self):\n",
    "        # make lists of wav, midi paths\n",
    "        self.audio = []\n",
    "        self.roll = []\n",
    "        for path in self.dir_path:\n",
    "            folder = path.parent.name\n",
    "            wav_files = list(path.rglob('*.wav'))\n",
    "            missing_list = []\n",
    "\n",
    "            if folder in self.target_folder:\n",
    "                for file in wav_files:\n",
    "                    midi = file.with_suffix('.mid')\n",
    "                    if not midi.exists():\n",
    "                        missing_list.append(id)\n",
    "                        continue\n",
    "                    roll = self.get_piano_roll(str(midi))\n",
    "                    self.audio.append(file)\n",
    "                    self.roll.append(roll)\n",
    "        print(missing_list)\n",
    "\n",
    "    def __len__(self):\n",
    "        return len(self.audio)\n",
    "        \n",
    "    def __getitem__(self, idx):\n",
    "        audio, sr = torchaudio.load(self.audio[idx])\n",
    "        audio = torchaudio.functional.resample(audio, sr, self.sr)\n",
    "        roll = self.roll[idx]\n",
    "        start = random.randint(0, len(audio[0]) - (self.sr * 25) - 1)\n",
    "        end = start + (self.sr * 20)\n",
    "        sliced_audio = audio[:, start:end].mean(dim=0) # stereo to mono\n",
    "\n",
    "        start_roll = time2frame(start/self.sr)\n",
    "        end_roll = start_roll + int(20 * self.sr/512)\n",
    "        sliced_roll = roll[:, :, start_roll:end_roll]\n",
    "\n",
    "        return sliced_audio, sliced_roll"
   ]
  },
  {
   "cell_type": "code",
   "execution_count": 5,
   "metadata": {},
   "outputs": [
    {
     "name": "stdout",
     "output_type": "stream",
     "text": [
      "[]\n",
      "[]\n"
     ]
    }
   ],
   "source": [
    "trainset = MAPSDataset(maps_path, 'train')\n",
    "testset = MAPSDataset(maps_path, 'test')"
   ]
  },
  {
   "cell_type": "code",
   "execution_count": 6,
   "metadata": {},
   "outputs": [],
   "source": [
    "train_loader = DataLoader(trainset, batch_size=8, shuffle=True, num_workers=0)\n",
    "test_loader = DataLoader(testset, batch_size=10, num_workers=0)\n",
    "batch = next(iter(train_loader))"
   ]
  },
  {
   "cell_type": "code",
   "execution_count": 7,
   "metadata": {},
   "outputs": [
    {
     "data": {
      "text/plain": [
       "(torch.Size([8, 320000]), torch.Size([8, 2, 88, 625]))"
      ]
     },
     "execution_count": 7,
     "metadata": {},
     "output_type": "execute_result"
    }
   ],
   "source": [
    "batch[0].shape, batch[1].shape"
   ]
  },
  {
   "cell_type": "markdown",
   "metadata": {},
   "source": [
    "#### Label끼리 잘 맞나 확인"
   ]
  },
  {
   "cell_type": "code",
   "execution_count": 8,
   "metadata": {},
   "outputs": [],
   "source": [
    "def check_label(split: str, idx, slice: int):\n",
    "    if split == 'train':\n",
    "        label = trainset.roll[idx]\n",
    "    elif split == 'test':\n",
    "        label = testset.roll[idx]\n",
    "    plt.figure(figsize=(15, 7))\n",
    "    plt.imshow((label[0] + label[1])[:, :slice], aspect='auto', interpolation='nearest', origin='lower')"
   ]
  },
  {
   "cell_type": "code",
   "execution_count": 9,
   "metadata": {},
   "outputs": [
    {
     "data": {
      "image/png": "[encoded data removed]",
      "text/plain": [
       "<Figure size 1080x504 with 1 Axes>"
      ]
     },
     "metadata": {
      "needs_background": "light"
     },
     "output_type": "display_data"
    }
   ],
   "source": [
    "check_label('train', 17, 300)"
   ]
  },
  {
   "cell_type": "markdown",
   "metadata": {},
   "source": [
    "#### audio-label끼리 잘 맞나 확인"
   ]
  },
  {
   "cell_type": "code",
   "execution_count": 10,
   "metadata": {},
   "outputs": [],
   "source": [
    "test_audio, test_roll = trainset[77]"
   ]
  },
  {
   "cell_type": "code",
   "execution_count": 11,
   "metadata": {},
   "outputs": [
    {
     "data": {
      "text/plain": [
       "<matplotlib.image.AxesImage at 0x11f366eb0>"
      ]
     },
     "execution_count": 11,
     "metadata": {},
     "output_type": "execute_result"
    },
    {
     "data": {
      "image/png": "[encoded data removed]",
      "text/plain": [
       "<Figure size 1080x504 with 1 Axes>"
      ]
     },
     "metadata": {
      "needs_background": "light"
     },
     "output_type": "display_data"
    }
   ],
   "source": [
    "plt.figure(figsize=(15, 7))\n",
    "plt.imshow(test_roll[0], aspect='auto', interpolation='nearest', origin='lower')"
   ]
  },
  {
   "cell_type": "code",
   "execution_count": 12,
   "metadata": {},
   "outputs": [
    {
     "data": {
      "text/plain": [
       "torch.Size([1, 320000])"
      ]
     },
     "execution_count": 12,
     "metadata": {},
     "output_type": "execute_result"
    }
   ],
   "source": [
    "test_audio = test_audio.view([1, -1])\n",
    "test_audio.shape"
   ]
  },
  {
   "cell_type": "code",
   "execution_count": 13,
   "metadata": {},
   "outputs": [],
   "source": [
    "torchaudio.save(filepath='/Users/idasol/Desktop/Visual_Studio_Projects/onsets_and_frames/audio_samples/sample8.wav', src= test_audio, sample_rate=16000)"
   ]
  },
  {
   "cell_type": "markdown",
   "metadata": {},
   "source": [
    "## Model"
   ]
  },
  {
   "cell_type": "code",
   "execution_count": 8,
   "metadata": {},
   "outputs": [],
   "source": [
    "def pitch2hz(pitch):\n",
    "    return 2 ** ((pitch-69) / 12) * 440"
   ]
  },
  {
   "cell_type": "code",
   "execution_count": 25,
   "metadata": {},
   "outputs": [
    {
     "data": {
      "text/plain": [
       "torch.Size([8, 1, 352, 626])"
      ]
     },
     "execution_count": 25,
     "metadata": {},
     "output_type": "execute_result"
    }
   ],
   "source": [
    "mel_converter = torchaudio.transforms.MelSpectrogram(sample_rate=16000,\n",
    "                                                                  n_fft = 2048,\n",
    "                                                                  hop_length = 512,\n",
    "                                                                  f_min = 20,\n",
    "                                                                  f_max = 8000,\n",
    "                                                                  n_mels = 88 * 4,\n",
    "                                                            )\n",
    "\n",
    "test_mel = mel_converter(batch[0])\n",
    "test_mel = test_mel.unsqueeze(1)\n",
    "test_mel.shape"
   ]
  },
  {
   "cell_type": "code",
   "execution_count": 32,
   "metadata": {},
   "outputs": [
    {
     "name": "stdout",
     "output_type": "stream",
     "text": [
      "torch.Size([8, 256, 88, 626])\n",
      "torch.Size([8, 22528, 626])\n",
      "torch.Size([8, 626, 256])\n"
     ]
    },
    {
     "data": {
      "text/plain": [
       "torch.Size([8, 88, 626])"
      ]
     },
     "execution_count": 32,
     "metadata": {},
     "output_type": "execute_result"
    }
   ],
   "source": [
    "class OnsetModule(nn.Module):\n",
    "    def __init__(self, hidden_size=256):\n",
    "        super().__init__()\n",
    "\n",
    "        self.cnn = nn.Sequential(nn.Conv2d(1, hidden_size//4, kernel_size=(3, 3), padding=1),\n",
    "                                 nn.BatchNorm2d(hidden_size//4),\n",
    "                                 nn.MaxPool2d((2, 1)),\n",
    "                                 nn.ReLU(),\n",
    "                                 \n",
    "                                 nn.Conv2d(hidden_size//4, hidden_size//2, kernel_size=(3, 3), padding=1),\n",
    "                                 nn.BatchNorm2d(hidden_size//2),\n",
    "                                 nn.MaxPool2d((2, 1)),\n",
    "                                 nn.ReLU(),\n",
    "                                 \n",
    "                                 nn.Conv2d(hidden_size//2, hidden_size, kernel_size=(3, 3), padding=1),\n",
    "                                 nn.BatchNorm2d(hidden_size),\n",
    "                                 nn.ReLU(),)\n",
    "                                 \n",
    "        self.fc = nn.Linear(88 * hidden_size, hidden_size)\n",
    "        self.lstm = nn.LSTM(hidden_size, hidden_size, num_layers=3, bidirectional=True, batch_first=True)\n",
    "        self.projection = nn.Linear(hidden_size * 2, 88)\n",
    "\n",
    "    def forward(self, mel_spec):\n",
    "        conv_out = self.cnn(mel_spec)\n",
    "        print(conv_out.shape)\n",
    "        conv_out = conv_out.reshape(mel_spec.shape[0], -1, mel_spec.shape[-1])\n",
    "        print(conv_out.shape)\n",
    "        fc_out = self.fc(conv_out.permute(0, 2, 1))\n",
    "        print(fc_out.shape)\n",
    "        hidden_out, last_hidden = self.lstm(fc_out)\n",
    "        logit = self.projection(hidden_out)\n",
    "        prob = torch.sigmoid(logit)\n",
    "\n",
    "        return prob.permute(0, 2, 1) # pianoroll 형식으로 변환\n",
    "        \n",
    "\n",
    "model = OnsetModule()\n",
    "onset_out = model(test_mel)\n",
    "onset_out.shape"
   ]
  },
  {
   "cell_type": "code",
   "execution_count": 33,
   "metadata": {},
   "outputs": [
    {
     "name": "stdout",
     "output_type": "stream",
     "text": [
      "torch.Size([8, 22528, 626])\n",
      "torch.Size([8, 626, 88])\n",
      "torch.Size([8, 626, 176])\n"
     ]
    },
    {
     "data": {
      "text/plain": [
       "torch.Size([8, 88, 626])"
      ]
     },
     "execution_count": 33,
     "metadata": {},
     "output_type": "execute_result"
    }
   ],
   "source": [
    "class FrameModule(nn.Module):\n",
    "    def __init__(self, hidden_size=256):\n",
    "        super().__init__()\n",
    "\n",
    "        self.cnn = nn.Sequential(nn.Conv2d(1, hidden_size//4, kernel_size=(3, 3), padding=1),\n",
    "                                 nn.BatchNorm2d(hidden_size//4),\n",
    "                                 nn.MaxPool2d((2, 1)),\n",
    "                                 nn.ReLU(),\n",
    "                                 \n",
    "                                 nn.Conv2d(hidden_size//4, hidden_size//2, kernel_size=(3, 3), padding=1),\n",
    "                                 nn.BatchNorm2d(hidden_size//2),\n",
    "                                 nn.MaxPool2d((2, 1)),\n",
    "                                 nn.ReLU(),\n",
    "                                 \n",
    "                                 nn.Conv2d(hidden_size//2, hidden_size, kernel_size=(3, 3), padding=1),\n",
    "                                 nn.BatchNorm2d(hidden_size),\n",
    "                                 nn.ReLU(),)\n",
    "                                 \n",
    "        self.fc = nn.Linear(88 * hidden_size, 88) \n",
    "        self.lstm = nn.LSTM(88 * 2, hidden_size, num_layers=3, bidirectional=True, batch_first=True)\n",
    "        self.projection = nn.Linear(hidden_size * 2, 88)\n",
    "\n",
    "    def forward(self, mel_spec, onset_out):\n",
    "        conv_out = self.cnn(mel_spec)\n",
    "        conv_out = conv_out.reshape(mel_spec.shape[0], -1, mel_spec.shape[-1])\n",
    "        print(conv_out.shape)\n",
    "        fc_out = self.fc(conv_out.permute(0, 2, 1))\n",
    "        print(fc_out.shape)\n",
    "        total_fc_out = torch.concat([onset_out.permute(0, 2, 1), fc_out], dim=2)\n",
    "        print(total_fc_out.shape)\n",
    "        hidden_out, last_hidden = self.lstm(total_fc_out)\n",
    "\n",
    "        logit = self.projection(hidden_out)\n",
    "        prob = torch.sigmoid(logit)\n",
    "        \n",
    "        return prob.permute(0, 2, 1) # pianoroll 형식으로 변환\n",
    "\n",
    "model = FrameModule()\n",
    "frame_out = model(test_mel, onset_out)\n",
    "frame_out.shape"
   ]
  },
  {
   "cell_type": "code",
   "execution_count": 35,
   "metadata": {},
   "outputs": [
    {
     "name": "stdout",
     "output_type": "stream",
     "text": [
      "torch.Size([8, 256, 88, 626])\n",
      "torch.Size([8, 22528, 626])\n",
      "torch.Size([8, 626, 256])\n",
      "torch.Size([8, 22528, 626])\n",
      "torch.Size([8, 626, 88])\n",
      "torch.Size([8, 626, 176])\n"
     ]
    }
   ],
   "source": [
    "class OnsetAndFrameModel(nn.Module):\n",
    "    def __init__(self, hidden_size=256):\n",
    "        super().__init__()\n",
    "        self.mel_converter = torchaudio.transforms.MelSpectrogram(sample_rate=16000,\n",
    "                                                                  n_fft = 2048,\n",
    "                                                                  hop_length = 512,\n",
    "                                                                  f_min = 20,\n",
    "                                                                  f_max = 8000,\n",
    "                                                                  n_mels = 88 * 4,\n",
    "                                                            )\n",
    "        self.onset_module = OnsetModule()\n",
    "        self.frame_module = FrameModule()\n",
    "\n",
    "    def forward(self, x):\n",
    "        assert isinstance(x, torch.Tensor) and x.ndim == 2\n",
    "        mel_spec = self.mel_converter(x) # batch size x num mels x time\n",
    "        mel_spec = mel_spec.unsqueeze(1)\n",
    "\n",
    "        onset_out = self.onset_module(mel_spec)\n",
    "        frame_out = self.frame_module(mel_spec, onset_out)\n",
    "        return onset_out, frame_out\n",
    "\n",
    "model = OnsetAndFrameModel()\n",
    "onset_out, frame_out = model(batch[0])"
   ]
  },
  {
   "cell_type": "markdown",
   "metadata": {},
   "source": [
    "## Model 2"
   ]
  },
  {
   "cell_type": "code",
   "execution_count": 8,
   "metadata": {},
   "outputs": [],
   "source": [
    "SAMPLE_RATE = 16000\n",
    "HOP_LENGTH = SAMPLE_RATE * 32 // 1000\n",
    "MIN_MIDI = 21\n",
    "MAX_MIDI = 108\n",
    "\n",
    "N_MELS = 229\n",
    "MEL_FMIN = 30\n",
    "MEL_FMAX = SAMPLE_RATE // 2 \n",
    "WINDOW_LENGTH = 2048\n",
    "\n",
    "# DEFAULT_DEVICE = 'cuda' if torch.cuda.is_available() else 'cpu'\n",
    "\n",
    "cuda = torch.device('cuda')"
   ]
  },
  {
   "cell_type": "code",
   "execution_count": 9,
   "metadata": {},
   "outputs": [],
   "source": [
    "class ConvStack(nn.Module):\n",
    "    def __init__(self, hidden_size=256):\n",
    "        super().__init__()\n",
    "        self.cnn = nn.Sequential(nn.Conv2d(1, hidden_size//4, kernel_size=(3, 3), padding=1),\n",
    "                                 nn.BatchNorm2d(hidden_size//4),\n",
    "                                 nn.MaxPool2d((2, 1)),\n",
    "                                 nn.ReLU(),\n",
    "                                 \n",
    "                                 nn.Conv2d(hidden_size//4, hidden_size//2, kernel_size=(3, 3), padding=1),\n",
    "                                 nn.BatchNorm2d(hidden_size//2),\n",
    "                                 nn.MaxPool2d((2, 1)),\n",
    "                                 nn.ReLU(),\n",
    "                                 \n",
    "                                 nn.Conv2d(hidden_size//2, hidden_size, kernel_size=(3, 3), padding=1),\n",
    "                                 nn.BatchNorm2d(hidden_size),\n",
    "                                 nn.ReLU(),)\n",
    "                                 \n",
    "        self.fc = nn.Sequential(\n",
    "            nn.Linear(88 * hidden_size, hidden_size),\n",
    "            nn.Dropout(0.5)\n",
    "        )\n",
    "\n",
    "    def forward(self, mel_spec):\n",
    "        out = self.cnn(mel_spec)\n",
    "        out = out.reshape(mel_spec.shape[0], -1, mel_spec.shape[-1])\n",
    "        out = self.fc(out.permute(0, 2, 1))\n",
    "        return out"
   ]
  },
  {
   "cell_type": "code",
   "execution_count": 10,
   "metadata": {},
   "outputs": [],
   "source": [
    "class BiLSTM(nn.Module):\n",
    "    def __init__(self, input_features=256, hidden_size=128):\n",
    "        super().__init__()\n",
    "        self.rnn = nn.LSTM(input_features, hidden_size, num_layers=3, batch_first=True, bidirectional=True)\n",
    "\n",
    "    def forward(self, x):\n",
    "        out, _ = self.rnn(x)\n",
    "        return out"
   ]
  },
  {
   "cell_type": "code",
   "execution_count": 17,
   "metadata": {},
   "outputs": [
    {
     "name": "stdout",
     "output_type": "stream",
     "text": [
      "torch.Size([8, 1, 352, 626])\n",
      "torch.Size([8, 626, 256])\n"
     ]
    },
    {
     "data": {
      "text/plain": [
       "torch.Size([8, 626, 88])"
      ]
     },
     "execution_count": 17,
     "metadata": {},
     "output_type": "execute_result"
    }
   ],
   "source": [
    "mel_converter = torchaudio.transforms.MelSpectrogram(sample_rate=16000,\n",
    "                                                     n_fft = 2048,\n",
    "                                                     hop_length = 512,\n",
    "                                                     f_min = 20,\n",
    "                                                     f_max = 8000,\n",
    "                                                     n_mels = 88 * 4,)\n",
    "\n",
    "test_mel = mel_converter(batch[0])\n",
    "test_mel = test_mel.unsqueeze(1)\n",
    "print(test_mel.shape)\n",
    "\n",
    "conv = ConvStack()\n",
    "test = conv(test_mel)\n",
    "print(test.shape)\n",
    "\n",
    "lstm = BiLSTM()\n",
    "test2 = lstm(test)\n",
    "\n",
    "fc = nn.Linear(128*2, 88)\n",
    "test3 = fc(test2)\n",
    "sig = nn.Sigmoid()\n",
    "test4 = sig(test3)\n",
    "test4.shape"
   ]
  },
  {
   "cell_type": "code",
   "execution_count": 11,
   "metadata": {},
   "outputs": [],
   "source": [
    "class OnsetandFrameModel(nn.Module):\n",
    "    def __init__(self): \n",
    "        super().__init__()\n",
    "        \n",
    "        self.mel_converter = torchaudio.transforms.MelSpectrogram(sample_rate=16000,\n",
    "                                                                  n_fft = 2048,\n",
    "                                                                  hop_length = 512,\n",
    "                                                                  f_min = 20,\n",
    "                                                                  f_max = 8000,\n",
    "                                                                  n_mels = 88 * 4)\n",
    "\n",
    "        # sequence_model = lambda input_size, output_size: BiLSTM(input_size, output_size // 2)\n",
    "\n",
    "        self.onset_stack = nn.Sequential(\n",
    "            ConvStack(),\n",
    "            BiLSTM(),\n",
    "            nn.Linear(256, 88),\n",
    "            nn.Sigmoid()\n",
    "        )\n",
    "        self.frame_stack = nn.Sequential(\n",
    "            ConvStack(),\n",
    "            nn.Linear(256, 88),\n",
    "            nn.Sigmoid()\n",
    "        )\n",
    "        self.combined_stack = nn.Sequential(\n",
    "            BiLSTM(176, 128), # ?\n",
    "            nn.Linear(256, 88),\n",
    "            nn.Sigmoid()\n",
    "        )\n",
    "\n",
    "    def forward(self, x):\n",
    "        mel_spec = self.mel_converter(x).unsqueeze(1)\n",
    "        onset_pred = self.onset_stack(mel_spec)\n",
    "        # offset_pred = self.offset_stack(mel_spec)\n",
    "        activation_pred = self.frame_stack(mel_spec)\n",
    "        combined_pred = torch.cat([onset_pred.detach(), activation_pred], dim=-1)\n",
    "        frame_pred = self.combined_stack(combined_pred)\n",
    "        # velocity_pred = self.velocity_stack(mel_spec)\n",
    "        return onset_pred.permute(0, 2, 1), activation_pred.permute(0, 2, 1), frame_pred.permute(0, 2, 1) ## ??\n",
    "        \n",
    "\n",
    "model = OnsetandFrameModel()\n",
    "onset_pred, activation_pred, frame_pred = model(batch[0])"
   ]
  },
  {
   "cell_type": "code",
   "execution_count": 18,
   "metadata": {},
   "outputs": [
    {
     "data": {
      "text/plain": [
       "torch.Size([8, 88, 626])"
      ]
     },
     "execution_count": 18,
     "metadata": {},
     "output_type": "execute_result"
    }
   ],
   "source": [
    "onset_pred.shape"
   ]
  },
  {
   "cell_type": "code",
   "execution_count": 19,
   "metadata": {},
   "outputs": [
    {
     "data": {
      "text/plain": [
       "torch.Size([88, 625])"
      ]
     },
     "execution_count": 19,
     "metadata": {},
     "output_type": "execute_result"
    }
   ],
   "source": [
    "batch[1][0, 1].shape"
   ]
  },
  {
   "cell_type": "code",
   "execution_count": 14,
   "metadata": {},
   "outputs": [
    {
     "data": {
      "text/plain": [
       "(tensor(0.6936, dtype=torch.float64, grad_fn=<NegBackward0>),\n",
       " tensor(0.6932, dtype=torch.float64, grad_fn=<NegBackward0>))"
      ]
     },
     "execution_count": 14,
     "metadata": {},
     "output_type": "execute_result"
    }
   ],
   "source": [
    "def get_binary_cross_entropy_loss(pred, target, eps=1e-7):\n",
    "    return -(target * torch.log(pred+eps) + (1-target) * torch.log((1-pred)+eps)).mean()\n",
    "\n",
    "onset_loss = get_binary_cross_entropy_loss(onset_pred[..., :-1], batch[1][0, 1])\n",
    "frame_loss = get_binary_cross_entropy_loss(frame_pred[..., :-1], batch[1][0, 0])\n",
    "\n",
    "onset_loss, frame_loss"
   ]
  },
  {
   "cell_type": "code",
   "execution_count": 21,
   "metadata": {},
   "outputs": [
    {
     "name": "stderr",
     "output_type": "stream",
     "text": [
      "  0%|          | 0/5 [00:00<?, ?it/s]"
     ]
    }
   ],
   "source": [
    "model = OnsetandFrameModel()\n",
    "optimizer = torch.optim.Adam(model.parameters())\n",
    "num_epochs = 5\n",
    "loss_record = []\n",
    "test_record = []\n",
    "model.train()\n",
    "\n",
    "for epoch in  tqdm(range(num_epochs)):\n",
    "    for batch in tqdm(train_loader, leave=False):\n",
    "        audio, roll = batch\n",
    "        onset_pred, activation_pred, frame_pred = model(audio)\n",
    "        onset_loss = get_binary_cross_entropy_loss(onset_pred[..., :-1], roll[0, 1])\n",
    "        frame_loss = get_binary_cross_entropy_loss(frame_pred[..., :-1], roll[0, 0])\n",
    "        loss = onset_loss + frame_loss\n",
    "        loss.backward()\n",
    "\n",
    "        optimizer.step()\n",
    "        optimizer.zero_grad()\n",
    "        loss_record.append(loss.item())\n",
    "\n",
    "    model.eval()\n",
    "    with torch.no_grad():\n",
    "        epoch_loss = 0\n",
    "        for batch in test_loader:\n",
    "            audio, roll = batch\n",
    "            onset_test_pred, activation_test_pred, frame_test_pred = model(audio)\n",
    "            onset_test_loss = get_binary_cross_entropy_loss(onset_pred[..., :-1], roll[0, 1])\n",
    "            frame_test_loss = get_binary_cross_entropy_loss(frame_pred[..., :-1], roll[0, 0])\n",
    "            test_loss = onset_test_loss + frame_test_loss\n",
    "            epoch_loss += test_loss.item()\n",
    "        test_record.append(epoch_loss / len(test_loader))\n",
    "    model.train()"
   ]
  },
  {
   "cell_type": "code",
   "execution_count": null,
   "metadata": {},
   "outputs": [],
   "source": [
    "x = [5, 6, 7, 8, 9]\n",
    "y = []\n",
    "for num in range(len(x)):\n",
    "    convert = [(i, i) for i in range(num)]\n",
    "    for j in convert[1]:\n",
    "        for a in j :\n",
    "            y.append(a)\n",
    "y"
   ]
  },
  {
   "cell_type": "code",
   "execution_count": null,
   "metadata": {},
   "outputs": [],
   "source": []
  }
 ],
 "metadata": {
  "interpreter": {
   "hash": "31f2aee4e71d21fbe5cf8b01ff0e069b9275f58929596ceb00d14d90e3e16cd6"
  },
  "kernelspec": {
   "display_name": "Python 3.8.9 64-bit",
   "language": "python",
   "name": "python3"
  },
  "language_info": {
   "codemirror_mode": {
    "name": "ipython",
    "version": 3
   },
   "file_extension": ".py",
   "mimetype": "text/x-python",
   "name": "python",
   "nbconvert_exporter": "python",
   "pygments_lexer": "ipython3",
   "version": "3.8.10"
  },
  "orig_nbformat": 4
 },
 "nbformat": 4,
 "nbformat_minor": 2
}
