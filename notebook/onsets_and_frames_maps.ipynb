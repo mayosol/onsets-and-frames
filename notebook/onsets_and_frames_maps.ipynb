{
 "cells": [
  {
   "cell_type": "markdown",
   "metadata": {},
   "source": [
    "## Data Unzip"
   ]
  },
  {
   "cell_type": "code",
   "execution_count": 1,
   "metadata": {},
   "outputs": [],
   "source": [
    "import numpy as np\n",
    "from torch.utils.data import DataLoader\n",
    "from tqdm import tqdm\n",
    "import random\n",
    "\n",
    "import torch\n",
    "import torch.nn as nn\n",
    "import torchaudio\n",
    "import IPython.display as ipd\n",
    "import matplotlib.pyplot as plt\n",
    "from pathlib import Path\n",
    "import zipfile\n",
    "from glob import glob\n",
    "\n",
    "import pretty_midi\n",
    "pretty_midi.pretty_midi.MAX_TICK = 1e10\n",
    "\n",
    "torch.set_printoptions(sci_mode=False)"
   ]
  },
  {
   "cell_type": "code",
   "execution_count": 2,
   "metadata": {},
   "outputs": [],
   "source": [
    "maps_path = Path('/home/dasol/userdata/onsets-and-frames/datasets/maps')\n",
    "\n",
    "# UNZIP\n",
    "# maps_piano_path = list(maps_path.rglob('*_2.zip'))\n",
    "# for path in maps_piano_path:\n",
    "#     zipfile.ZipFile(path).extractall(maps_path)"
   ]
  },
  {
   "cell_type": "code",
   "execution_count": 3,
   "metadata": {},
   "outputs": [],
   "source": [
    "def time2frame(time, sr=16000, hop_length=512):\n",
    "    return round((time * sr) / hop_length)"
   ]
  },
  {
   "cell_type": "code",
   "execution_count": 4,
   "metadata": {},
   "outputs": [],
   "source": [
    "class MAPSDataset:\n",
    "    def __init__(self, path, split):\n",
    "        train_path = path / 'train'\n",
    "        test_path = path / 'test'\n",
    "        self.path = train_path if split == 'train' else test_path\n",
    "        self.sample_rate = 16000\n",
    "\n",
    "        self.files = list(self.path.glob('*.pt'))\n",
    "        self.data = [torch.load(x) for x in self.files]\n",
    "\n",
    "    def __len__(self):\n",
    "        return len(self.files)\n",
    "\n",
    "    def __getitem__(self, idx):\n",
    "        data = self.data[idx]\n",
    "        audio = data['audio']\n",
    "        roll = data['label']\n",
    "\n",
    "        start = random.randint(0, len(audio[0]) - (self.sample_rate * 25) - 1)\n",
    "        end = start + (self.sample_rate * 20)\n",
    "        sliced_audio = audio[:, start:end].mean(dim=0) # stereo to mono\n",
    "\n",
    "        start_roll = time2frame(start/self.sample_rate)\n",
    "        end_roll = start_roll + int(20 * self.sample_rate/512)\n",
    "        sliced_roll = roll[:, :, start_roll:end_roll]\n",
    "\n",
    "        return sliced_audio, sliced_roll     \n",
    "        "
   ]
  },
  {
   "cell_type": "markdown",
   "metadata": {},
   "source": [
    "## 데이터 파이프라인\n",
    "\n",
    "1) DataSet class __getitem__\n",
    "\n",
    "\n",
    "2) DataLoader \n",
    "\n",
    "    2-1) Collate function (collate_fn)\n",
    "\n",
    "    getitem으로 불러온 N개의 아이템을 어떻게 하나의 텐서로 만들어줄 것인지\n",
    "\n",
    "    각각의 아이템의 shape 모두 같다면 N x ~~~~\n",
    "  \n",
    "  \n",
    "3) for batch in trainloader:\n",
    "\n",
    "      batch = batch.to(device) (이때 batch가 tensor들의 튜플이면 각각 device로 보내줘야함)\n",
    "\n",
    "      audio, roll = batch \n",
    "\n",
    "      audio = audio.to(device)\n",
    "\n",
    "      roll = roll.to(device)\n",
    "     \n",
    "      model(audio)\n"
   ]
  },
  {
   "cell_type": "code",
   "execution_count": 5,
   "metadata": {},
   "outputs": [],
   "source": [
    "trainset = MAPSDataset(maps_path, 'train')\n",
    "testset = MAPSDataset(maps_path, 'test')"
   ]
  },
  {
   "cell_type": "code",
   "execution_count": 6,
   "metadata": {},
   "outputs": [],
   "source": [
    "train_loader = DataLoader(trainset, batch_size=8, shuffle=True, num_workers=2)\n",
    "test_loader = DataLoader(testset, batch_size=10, num_workers=2)\n",
    "batch = next(iter(train_loader))"
   ]
  },
  {
   "cell_type": "code",
   "execution_count": 7,
   "metadata": {},
   "outputs": [
    {
     "data": {
      "text/plain": [
       "tensor([[-0.0118, -0.0169, -0.0213,  ...,  0.0038,  0.0043,  0.0051],\n",
       "        [-0.0221, -0.0172, -0.0106,  ...,  0.0000,  0.0000,  0.0000],\n",
       "        [-0.0448, -0.0634, -0.0711,  ..., -0.0074, -0.0065, -0.0054],\n",
       "        ...,\n",
       "        [-0.0141, -0.0085, -0.0028,  ..., -0.0200, -0.0162, -0.0145],\n",
       "        [-0.0009, -0.0011, -0.0016,  ..., -0.0014, -0.0011,  0.0006],\n",
       "        [-0.0179, -0.0204, -0.0215,  ..., -0.0158, -0.0149, -0.0139]])"
      ]
     },
     "execution_count": 7,
     "metadata": {},
     "output_type": "execute_result"
    }
   ],
   "source": [
    "batch[0]"
   ]
  },
  {
   "cell_type": "code",
   "execution_count": 8,
   "metadata": {},
   "outputs": [
    {
     "data": {
      "text/plain": [
       "(torch.Size([8, 320000]), torch.Size([8, 2, 88, 625]))"
      ]
     },
     "execution_count": 8,
     "metadata": {},
     "output_type": "execute_result"
    }
   ],
   "source": [
    "batch[0].shape, batch[1].shape"
   ]
  },
  {
   "cell_type": "markdown",
   "metadata": {},
   "source": [
    "#### Label끼리 잘 맞나 확인"
   ]
  },
  {
   "cell_type": "code",
   "execution_count": 9,
   "metadata": {},
   "outputs": [],
   "source": [
    "def check_label(split: str, idx, slice: int):\n",
    "    if split == 'train':\n",
    "        _, label = trainset[idx]\n",
    "    elif split == 'test':\n",
    "        _, label = testset[idx]\n",
    "    plt.figure(figsize=(15, 7))\n",
    "    plt.imshow((label[0] + label[1])[:, :slice], aspect='auto', interpolation='nearest', origin='lower')"
   ]
  },
  {
   "cell_type": "code",
   "execution_count": 10,
   "metadata": {},
   "outputs": [
    {
     "data": {
      "image/png": "[encoded data removed]",
      "text/plain": [
       "<Figure size 1080x504 with 1 Axes>"
      ]
     },
     "metadata": {
      "needs_background": "light"
     },
     "output_type": "display_data"
    }
   ],
   "source": [
    "check_label('train', 17, 300)"
   ]
  },
  {
   "cell_type": "markdown",
   "metadata": {},
   "source": [
    "#### audio-label끼리 잘 맞나 확인"
   ]
  },
  {
   "cell_type": "code",
   "execution_count": 11,
   "metadata": {},
   "outputs": [],
   "source": [
    "test_audio, test_roll = trainset[112]"
   ]
  },
  {
   "cell_type": "code",
   "execution_count": 12,
   "metadata": {},
   "outputs": [
    {
     "data": {
      "text/plain": [
       "<matplotlib.image.AxesImage at 0x7fef7d916700>"
      ]
     },
     "execution_count": 12,
     "metadata": {},
     "output_type": "execute_result"
    },
    {
     "data": {
      "image/png": "[encoded data removed]",
      "text/plain": [
       "<Figure size 1080x504 with 1 Axes>"
      ]
     },
     "metadata": {
      "needs_background": "light"
     },
     "output_type": "display_data"
    }
   ],
   "source": [
    "plt.figure(figsize=(15, 7))\n",
    "plt.imshow(test_roll[0], aspect='auto', interpolation='nearest', origin='lower')"
   ]
  },
  {
   "cell_type": "code",
   "execution_count": 13,
   "metadata": {},
   "outputs": [
    {
     "data": {
      "text/plain": [
       "torch.Size([1, 320000])"
      ]
     },
     "execution_count": 13,
     "metadata": {},
     "output_type": "execute_result"
    }
   ],
   "source": [
    "test_audio = test_audio.view([1, -1])\n",
    "test_audio.shape"
   ]
  },
  {
   "cell_type": "code",
   "execution_count": 14,
   "metadata": {},
   "outputs": [],
   "source": [
    "torchaudio.save(filepath='/home/dasol/userdata/onsets-and-frames/audio_samples/sample10.wav', src= test_audio, sample_rate=16000)"
   ]
  },
  {
   "cell_type": "markdown",
   "metadata": {},
   "source": [
    "## Model"
   ]
  },
  {
   "cell_type": "code",
   "execution_count": 9,
   "metadata": {},
   "outputs": [],
   "source": [
    "def pitch2hz(pitch):\n",
    "    return 2 ** ((pitch-69) / 12) * 440"
   ]
  },
  {
   "cell_type": "code",
   "execution_count": 10,
   "metadata": {},
   "outputs": [],
   "source": [
    "SAMPLE_RATE = 16000\n",
    "HOP_LENGTH = SAMPLE_RATE * 32 // 1000\n",
    "MIN_MIDI = 21\n",
    "MAX_MIDI = 108\n",
    "\n",
    "N_MELS = 229\n",
    "MEL_FMIN = 30\n",
    "MEL_FMAX = SAMPLE_RATE // 2\n",
    "WINDOW_LENGTH = 2048\n",
    "\n",
    "DEV = \"cuda\""
   ]
  },
  {
   "cell_type": "code",
   "execution_count": 11,
   "metadata": {},
   "outputs": [],
   "source": [
    "class ConvStack(nn.Module):\n",
    "    def __init__(self, hidden_size=256):\n",
    "        super().__init__()\n",
    "        self.cnn = nn.Sequential(nn.Conv2d(1, hidden_size//4, kernel_size=(3, 3), padding=1),\n",
    "                                 nn.BatchNorm2d(hidden_size//4),\n",
    "                                 nn.MaxPool2d((2, 1)),\n",
    "                                 nn.ReLU(),\n",
    "                                 \n",
    "                                 nn.Conv2d(hidden_size//4, hidden_size//2, kernel_size=(3, 3), padding=1),\n",
    "                                 nn.BatchNorm2d(hidden_size//2),\n",
    "                                 nn.MaxPool2d((2, 1)),\n",
    "                                 nn.ReLU(),\n",
    "                                 \n",
    "                                 nn.Conv2d(hidden_size//2, hidden_size, kernel_size=(3, 3), padding=1),\n",
    "                                 nn.BatchNorm2d(hidden_size),\n",
    "                                 nn.ReLU(),)\n",
    "                                 \n",
    "        self.fc = nn.Sequential(\n",
    "            nn.Linear(88 * hidden_size, hidden_size),\n",
    "            nn.Dropout(0.5)\n",
    "        )\n",
    "\n",
    "    def forward(self, mel_spec):\n",
    "        out = self.cnn(mel_spec)\n",
    "        out = out.reshape(mel_spec.shape[0], -1, mel_spec.shape[-1])\n",
    "        out = self.fc(out.permute(0, 2, 1))\n",
    "        return out"
   ]
  },
  {
   "cell_type": "code",
   "execution_count": 12,
   "metadata": {},
   "outputs": [],
   "source": [
    "class BiLSTM(nn.Module):\n",
    "    def __init__(self, input_features=256, hidden_size=128):\n",
    "        super().__init__()\n",
    "        self.rnn = nn.LSTM(input_features, hidden_size, num_layers=3, batch_first=True, bidirectional=True)\n",
    "\n",
    "    def forward(self, x):\n",
    "        out, _ = self.rnn(x)\n",
    "        return out"
   ]
  },
  {
   "cell_type": "code",
   "execution_count": 13,
   "metadata": {},
   "outputs": [],
   "source": [
    "class OnsetandFrameModel(nn.Module):\n",
    "    def __init__(self): \n",
    "        super().__init__()\n",
    "        \n",
    "        self.mel_converter = torchaudio.transforms.MelSpectrogram(sample_rate=16000,\n",
    "                                                                  n_fft = 2048,\n",
    "                                                                  hop_length = 512,\n",
    "                                                                  f_min = 20,\n",
    "                                                                  f_max = 8000,\n",
    "                                                                  n_mels = 88 * 4)\n",
    "\n",
    "        # sequence_model = lambda input_size, output_size: BiLSTM(input_size, output_size // 2)\n",
    "\n",
    "        self.onset_stack = nn.Sequential(\n",
    "            ConvStack(),\n",
    "            BiLSTM(),\n",
    "            nn.Linear(256, 88),\n",
    "            nn.Sigmoid()\n",
    "        ).cuda()\n",
    "        self.frame_stack = nn.Sequential(\n",
    "            ConvStack(),\n",
    "            nn.Linear(256, 88),\n",
    "            nn.Sigmoid()\n",
    "        ).cuda()\n",
    "        self.combined_stack = nn.Sequential(\n",
    "            BiLSTM(176, 128),\n",
    "            nn.Linear(256, 88),\n",
    "            nn.Sigmoid()\n",
    "        ).cuda()\n",
    "\n",
    "    def forward(self, x):\n",
    "        mel_spec = self.mel_converter(x).unsqueeze(1).to(device=DEV)\n",
    "        onset_pred = self.onset_stack(mel_spec)\n",
    "        # offset_pred = self.offset_stack(mel_spec)\n",
    "        activation_pred = self.frame_stack(mel_spec)\n",
    "        combined_pred = torch.cat([onset_pred.detach(), activation_pred], dim=-1)\n",
    "        frame_pred = self.combined_stack(combined_pred)\n",
    "        # velocity_pred = self.velocity_stack(mel_spec)\n",
    "        return onset_pred.permute(0, 2, 1), activation_pred.permute(0, 2, 1), frame_pred.permute(0, 2, 1)"
   ]
  },
  {
   "cell_type": "markdown",
   "metadata": {},
   "source": [
    "### binary cross entropy loss"
   ]
  },
  {
   "cell_type": "code",
   "execution_count": 14,
   "metadata": {},
   "outputs": [
    {
     "name": "stderr",
     "output_type": "stream",
     "text": [
      "100%|██████████| 100/100 [15:25<00:00,  9.25s/it]\n"
     ]
    }
   ],
   "source": [
    "model = OnsetandFrameModel().to(device=DEV)\n",
    "optimizer = torch.optim.Adam(model.parameters())\n",
    "num_epochs = 100\n",
    "loss_record = []\n",
    "test_record = []\n",
    "BCEloss = nn.BCELoss()\n",
    "model.train()\n",
    "\n",
    "\n",
    "for epoch in  tqdm(range(num_epochs)):\n",
    "    for batch in tqdm(train_loader, leave=False):\n",
    "\n",
    "        audio, roll = batch\n",
    "        onset_pred, activation_pred, frame_pred = model(audio.to(DEV))\n",
    "        onset_loss = BCEloss(onset_pred[..., :-1].to(torch.float32), roll[:, 1].to(DEV).to(torch.float32))\n",
    "        frame_loss = BCEloss(frame_pred[..., :-1].to(torch.float32), roll[:, 0].to(DEV).to(torch.float32))\n",
    "        loss = onset_loss + frame_loss\n",
    "        loss.backward()\n",
    "\n",
    "        optimizer.step()\n",
    "        optimizer.zero_grad()\n",
    "        loss_record.append(loss.item())\n",
    "\n",
    "    model.eval()\n",
    "    with torch.no_grad():\n",
    "        epoch_loss = 0\n",
    "        for batch in test_loader:\n",
    "            audio, roll = batch\n",
    "            onset_test_pred, activation_test_pred, frame_test_pred = model(audio.to(DEV))\n",
    "            onset_test_loss = BCEloss(onset_test_pred[..., :-1].to(torch.float32), roll[:, 1].to(DEV).to(torch.float32))\n",
    "            frame_test_loss = BCEloss(frame_test_pred[..., :-1].to(torch.float32), roll[:, 0].to(DEV).to(torch.float32))\n",
    "            test_loss = onset_test_loss + frame_test_loss\n",
    "            epoch_loss += test_loss.item()\n",
    "            # TODO : Calculate accuracy (F1 score)\n",
    "        test_record.append(epoch_loss / len(test_loader))\n",
    "    model.train()"
   ]
  },
  {
   "cell_type": "code",
   "execution_count": 18,
   "metadata": {},
   "outputs": [
    {
     "data": {
      "text/plain": [
       "[<matplotlib.lines.Line2D at 0x7f35d48c8c10>]"
      ]
     },
     "execution_count": 18,
     "metadata": {},
     "output_type": "execute_result"
    },
    {
     "data": {
      "image/png": "[encoded data removed]",
      "text/plain": [
       "<Figure size 432x288 with 1 Axes>"
      ]
     },
     "metadata": {
      "needs_background": "light"
     },
     "output_type": "display_data"
    }
   ],
   "source": [
    "plt.plot(loss_record)"
   ]
  },
  {
   "cell_type": "code",
   "execution_count": 19,
   "metadata": {},
   "outputs": [
    {
     "data": {
      "text/plain": [
       "[<matplotlib.lines.Line2D at 0x7f35d0631fd0>]"
      ]
     },
     "execution_count": 19,
     "metadata": {},
     "output_type": "execute_result"
    },
    {
     "data": {
      "image/png": "[encoded data removed]",
      "text/plain": [
       "<Figure size 432x288 with 1 Axes>"
      ]
     },
     "metadata": {
      "needs_background": "light"
     },
     "output_type": "display_data"
    }
   ],
   "source": [
    "plt.plot(test_record)"
   ]
  },
  {
   "cell_type": "code",
   "execution_count": 20,
   "metadata": {},
   "outputs": [
    {
     "data": {
      "text/plain": [
       "<matplotlib.image.AxesImage at 0x7f35d0585820>"
      ]
     },
     "execution_count": 20,
     "metadata": {},
     "output_type": "execute_result"
    },
    {
     "data": {
      "image/png": "[encoded data removed]",
      "text/plain": [
       "<Figure size 432x288 with 1 Axes>"
      ]
     },
     "metadata": {
      "needs_background": "light"
     },
     "output_type": "display_data"
    }
   ],
   "source": [
    "plt.imshow(frame_test_pred[0].cpu(), aspect='auto', interpolation='nearest')"
   ]
  },
  {
   "cell_type": "markdown",
   "metadata": {},
   "source": [
    "### with f1 score"
   ]
  },
  {
   "cell_type": "code",
   "execution_count": 82,
   "metadata": {},
   "outputs": [],
   "source": [
    "def f1_score(threshold, roll):\n",
    "    true_positive = ((threshold==1) * (roll==1)).sum()\n",
    "    false_positive = ((threshold==1) * (roll==0)).sum()\n",
    "    false_negative = ((threshold==0) * (roll==1)).sum()\n",
    "\n",
    "    precision = true_positive / (true_positive + false_positive)\n",
    "    recall = true_positive / (true_positive + false_negative)\n",
    "\n",
    "    f1_score = 2 / ((1 / precision) + (1 / recall))\n",
    "\n",
    "    return f1_score"
   ]
  },
  {
   "cell_type": "code",
   "execution_count": 86,
   "metadata": {},
   "outputs": [
    {
     "name": "stderr",
     "output_type": "stream",
     "text": [
      "100%|██████████| 100/100 [15:26<00:00,  9.27s/it]\n"
     ]
    }
   ],
   "source": [
    "model = OnsetandFrameModel().to(device=DEV)\n",
    "optimizer = torch.optim.Adam(model.parameters())\n",
    "num_epochs = 100\n",
    "loss_record = []\n",
    "test_record = []\n",
    "f1_record = []\n",
    "BCEloss = nn.BCELoss()\n",
    "model.train()\n",
    "\n",
    "\n",
    "for epoch in  tqdm(range(num_epochs)):\n",
    "    for batch in tqdm(train_loader, leave=False):\n",
    "        audio, roll = batch\n",
    "        onset_pred, activation_pred, frame_pred = model(audio.to(device=DEV))\n",
    "        onset_loss = BCEloss(onset_pred[..., :-1].to(torch.float32), roll[:, 1].to(DEV).to(torch.float32))\n",
    "        frame_loss = BCEloss(frame_pred[..., :-1].to(torch.float32), roll[:, 0].to(DEV).to(torch.float32))\n",
    "        loss = onset_loss + frame_loss\n",
    "        loss.backward()\n",
    "\n",
    "        optimizer.step()\n",
    "        optimizer.zero_grad()\n",
    "        loss_record.append(loss.item())\n",
    "\n",
    "    model.eval()\n",
    "    with torch.no_grad():\n",
    "        epoch_loss = 0\n",
    "        for batch in test_loader:\n",
    "            audio, roll = batch\n",
    "            roll = roll.to(torch.float32)\n",
    "            onset_test_pred, activation_test_pred, frame_test_pred = model(audio.to(device=DEV))\n",
    "            onset_test_loss = BCEloss(onset_test_pred[..., :-1].to(torch.float32), roll[:, 1].to(device=DEV))\n",
    "            frame_test_loss = BCEloss(frame_test_pred[..., :-1].to(torch.float32), roll[:, 0].to(device=DEV))\n",
    "            test_loss = onset_test_loss + frame_test_loss\n",
    "            epoch_loss += test_loss.item()\n",
    "\n",
    "            # TODO : Calculate accuracy (F1 score)\n",
    "            roll = roll.to(torch.int)\n",
    "            onset_threshold = (onset_test_pred>=0.01).to(torch.int)[..., :-1]\n",
    "            frame_threshold = (frame_test_pred>=0.1).to(torch.int)[..., :-1]\n",
    "\n",
    "            onset_f1_score = f1_score(onset_threshold, roll[:, 1])\n",
    "            frame_f1_score = f1_score(frame_threshold, roll[:, 0])\n",
    "            f1_record.append((onset_f1_score + frame_f1_score) / 2)\n",
    "            \n",
    "        test_record.append(epoch_loss / len(test_loader))\n",
    "\n",
    "    model.train()"
   ]
  },
  {
   "cell_type": "code",
   "execution_count": 87,
   "metadata": {},
   "outputs": [
    {
     "data": {
      "text/plain": [
       "[<matplotlib.lines.Line2D at 0x7f2f69472040>]"
      ]
     },
     "execution_count": 87,
     "metadata": {},
     "output_type": "execute_result"
    },
    {
     "data": {
      "image/png": "[encoded data removed]",
      "text/plain": [
       "<Figure size 432x288 with 1 Axes>"
      ]
     },
     "metadata": {
      "needs_background": "light"
     },
     "output_type": "display_data"
    }
   ],
   "source": [
    "plt.plot(f1_record)"
   ]
  },
  {
   "cell_type": "code",
   "execution_count": 88,
   "metadata": {},
   "outputs": [
    {
     "data": {
      "text/plain": [
       "[tensor(0.0812),\n",
       " tensor(0.0888),\n",
       " tensor(0.1085),\n",
       " tensor(0.0829),\n",
       " tensor(0.0890),\n",
       " tensor(0.0747),\n",
       " tensor(0.0786),\n",
       " tensor(0.0909),\n",
       " tensor(0.1009),\n",
       " tensor(0.0845),\n",
       " tensor(0.0930),\n",
       " tensor(0.0852),\n",
       " tensor(0.0927),\n",
       " tensor(0.1015),\n",
       " tensor(0.1173),\n",
       " tensor(0.0995),\n",
       " tensor(0.1028),\n",
       " tensor(0.0940),\n",
       " tensor(0.0977),\n",
       " tensor(0.1117),\n",
       " tensor(0.1225),\n",
       " tensor(0.1085),\n",
       " tensor(0.1038),\n",
       " tensor(0.1009),\n",
       " tensor(0.0946),\n",
       " tensor(0.0867),\n",
       " tensor(0.1207),\n",
       " tensor(0.1080),\n",
       " tensor(0.1014),\n",
       " tensor(0.0979),\n",
       " tensor(0.0844),\n",
       " tensor(0.1114),\n",
       " tensor(0.1208),\n",
       " tensor(0.1112),\n",
       " tensor(0.1065),\n",
       " tensor(0.0859),\n",
       " tensor(0.0954),\n",
       " tensor(0.1028),\n",
       " tensor(0.1239),\n",
       " tensor(0.1061),\n",
       " tensor(0.0912),\n",
       " tensor(0.1029),\n",
       " tensor(0.0948),\n",
       " tensor(0.1045),\n",
       " tensor(0.1293),\n",
       " tensor(0.0992),\n",
       " tensor(0.1112),\n",
       " tensor(0.0941),\n",
       " tensor(0.0783),\n",
       " tensor(0.1093),\n",
       " tensor(0.1088),\n",
       " tensor(0.0998),\n",
       " tensor(0.1045),\n",
       " tensor(0.0893),\n",
       " tensor(0.1105),\n",
       " tensor(0.1076),\n",
       " tensor(0.1199),\n",
       " tensor(0.1143),\n",
       " tensor(0.1052),\n",
       " tensor(0.0843),\n",
       " tensor(0.0970),\n",
       " tensor(0.0973),\n",
       " tensor(0.1035),\n",
       " tensor(0.0912),\n",
       " tensor(0.0881),\n",
       " tensor(0.0950),\n",
       " tensor(0.0882),\n",
       " tensor(0.1064),\n",
       " tensor(0.1226),\n",
       " tensor(0.1083),\n",
       " tensor(0.1076),\n",
       " tensor(0.0993),\n",
       " tensor(0.0930),\n",
       " tensor(0.0877),\n",
       " tensor(0.1047),\n",
       " tensor(0.0882),\n",
       " tensor(0.1064),\n",
       " tensor(0.0841),\n",
       " tensor(0.0935),\n",
       " tensor(0.1086),\n",
       " tensor(0.1144),\n",
       " tensor(0.0930),\n",
       " tensor(0.1038),\n",
       " tensor(0.0880),\n",
       " tensor(0.0967),\n",
       " tensor(0.1094),\n",
       " tensor(0.1225),\n",
       " tensor(0.1079),\n",
       " tensor(0.1112),\n",
       " tensor(0.0942),\n",
       " tensor(0.0828),\n",
       " tensor(0.1157),\n",
       " tensor(0.1154),\n",
       " tensor(0.1051),\n",
       " tensor(0.1147),\n",
       " tensor(0.0942),\n",
       " tensor(0.0790),\n",
       " tensor(0.0989),\n",
       " tensor(0.1034),\n",
       " tensor(0.1083),\n",
       " tensor(0.1004),\n",
       " tensor(0.0883),\n",
       " tensor(0.0944),\n",
       " tensor(0.1061),\n",
       " tensor(0.1098),\n",
       " tensor(0.1024),\n",
       " tensor(0.1038),\n",
       " tensor(0.0937),\n",
       " tensor(0.0934),\n",
       " tensor(0.1024),\n",
       " tensor(0.1126),\n",
       " tensor(0.1115),\n",
       " tensor(0.0933),\n",
       " tensor(0.0816),\n",
       " tensor(0.0912),\n",
       " tensor(0.1159),\n",
       " tensor(0.0882),\n",
       " tensor(0.0953),\n",
       " tensor(0.1067),\n",
       " tensor(0.0812),\n",
       " tensor(0.0888),\n",
       " tensor(0.1055),\n",
       " tensor(0.1254),\n",
       " tensor(0.1012),\n",
       " tensor(0.1039),\n",
       " tensor(0.0916),\n",
       " tensor(0.0988),\n",
       " tensor(0.1018),\n",
       " tensor(0.1129),\n",
       " tensor(0.1134),\n",
       " tensor(0.1063),\n",
       " tensor(0.0920),\n",
       " tensor(0.1005),\n",
       " tensor(0.1150),\n",
       " tensor(0.1199),\n",
       " tensor(0.1101),\n",
       " tensor(0.1050),\n",
       " tensor(0.0947),\n",
       " tensor(0.0953),\n",
       " tensor(0.0914),\n",
       " tensor(0.1399),\n",
       " tensor(0.1035),\n",
       " tensor(0.1236),\n",
       " tensor(0.0989),\n",
       " tensor(0.0995),\n",
       " tensor(0.0942),\n",
       " tensor(0.1238),\n",
       " tensor(0.0954),\n",
       " tensor(0.1073),\n",
       " tensor(0.0932),\n",
       " tensor(0.1005),\n",
       " tensor(0.1182),\n",
       " tensor(0.1189),\n",
       " tensor(0.1221),\n",
       " tensor(0.1077),\n",
       " tensor(0.0993),\n",
       " tensor(0.0967),\n",
       " tensor(0.0933),\n",
       " tensor(0.1178),\n",
       " tensor(0.1064),\n",
       " tensor(0.0910),\n",
       " tensor(0.0963),\n",
       " tensor(0.1025),\n",
       " tensor(0.1131),\n",
       " tensor(0.1177),\n",
       " tensor(0.1225),\n",
       " tensor(0.1073),\n",
       " tensor(0.0858),\n",
       " tensor(0.0811),\n",
       " tensor(0.0996),\n",
       " tensor(0.1103),\n",
       " tensor(0.1065),\n",
       " tensor(0.1044),\n",
       " tensor(0.0940),\n",
       " tensor(0.1015),\n",
       " tensor(0.0945),\n",
       " tensor(0.1313),\n",
       " tensor(0.1008),\n",
       " tensor(0.1235),\n",
       " tensor(0.0952),\n",
       " tensor(0.1008),\n",
       " tensor(0.1102),\n",
       " tensor(0.1246),\n",
       " tensor(0.1139),\n",
       " tensor(0.1083),\n",
       " tensor(0.0902),\n",
       " tensor(0.0951),\n",
       " tensor(0.0986),\n",
       " tensor(0.1279),\n",
       " tensor(0.1026),\n",
       " tensor(0.1073),\n",
       " tensor(0.0844),\n",
       " tensor(0.0970),\n",
       " tensor(0.0952),\n",
       " tensor(0.1165),\n",
       " tensor(0.1065),\n",
       " tensor(0.1169),\n",
       " tensor(0.0951),\n",
       " tensor(0.1057),\n",
       " tensor(0.1134),\n",
       " tensor(0.1136),\n",
       " tensor(0.1032),\n",
       " tensor(0.1222),\n",
       " tensor(0.1029),\n",
       " tensor(0.0988),\n",
       " tensor(0.1069),\n",
       " tensor(0.1190),\n",
       " tensor(0.1113),\n",
       " tensor(0.1072),\n",
       " tensor(0.0971),\n",
       " tensor(0.0838),\n",
       " tensor(0.1143),\n",
       " tensor(0.1121),\n",
       " tensor(0.1015),\n",
       " tensor(0.1050),\n",
       " tensor(0.0829),\n",
       " tensor(0.1042),\n",
       " tensor(0.0919),\n",
       " tensor(0.1150),\n",
       " tensor(0.1134),\n",
       " tensor(0.0977),\n",
       " tensor(0.0909),\n",
       " tensor(0.0902),\n",
       " tensor(0.1024),\n",
       " tensor(0.1018),\n",
       " tensor(0.1046),\n",
       " tensor(0.1116),\n",
       " tensor(0.0889),\n",
       " tensor(0.0809),\n",
       " tensor(0.0899),\n",
       " tensor(0.1318),\n",
       " tensor(0.1027),\n",
       " tensor(0.1166),\n",
       " tensor(0.0926),\n",
       " tensor(0.0985),\n",
       " tensor(0.1062),\n",
       " tensor(0.1115),\n",
       " tensor(0.0984),\n",
       " tensor(0.1121),\n",
       " tensor(0.0959),\n",
       " tensor(0.1041),\n",
       " tensor(0.1002),\n",
       " tensor(0.1200),\n",
       " tensor(0.0991),\n",
       " tensor(0.0832),\n",
       " tensor(0.0932),\n",
       " tensor(0.0857),\n",
       " tensor(0.0907),\n",
       " tensor(0.1108),\n",
       " tensor(0.1041),\n",
       " tensor(0.0982),\n",
       " tensor(0.0901),\n",
       " tensor(0.0910),\n",
       " tensor(0.1055),\n",
       " tensor(0.1037),\n",
       " tensor(0.0987),\n",
       " tensor(0.0851),\n",
       " tensor(0.0921),\n",
       " tensor(0.0975),\n",
       " tensor(0.0980),\n",
       " tensor(0.1172),\n",
       " tensor(0.1029),\n",
       " tensor(0.1108),\n",
       " tensor(0.0929),\n",
       " tensor(0.0837),\n",
       " tensor(0.0976),\n",
       " tensor(0.1160),\n",
       " tensor(0.1144),\n",
       " tensor(0.1043),\n",
       " tensor(0.0959),\n",
       " tensor(0.0894),\n",
       " tensor(0.0809),\n",
       " tensor(0.1203),\n",
       " tensor(0.1106),\n",
       " tensor(0.1233),\n",
       " tensor(0.0729),\n",
       " tensor(0.0949),\n",
       " tensor(0.1123),\n",
       " tensor(0.1172),\n",
       " tensor(0.1047),\n",
       " tensor(0.0958),\n",
       " tensor(0.1016),\n",
       " tensor(0.0852),\n",
       " tensor(0.1031),\n",
       " tensor(0.1045),\n",
       " tensor(0.0856),\n",
       " tensor(0.1018),\n",
       " tensor(0.0891),\n",
       " tensor(0.0906),\n",
       " tensor(0.1185),\n",
       " tensor(0.1068),\n",
       " tensor(0.1039),\n",
       " tensor(0.1025),\n",
       " tensor(0.0815),\n",
       " tensor(0.0914),\n",
       " tensor(0.0980),\n",
       " tensor(0.1230),\n",
       " tensor(0.1108),\n",
       " tensor(0.1136),\n",
       " tensor(0.0898),\n",
       " tensor(0.0741),\n",
       " tensor(0.1056),\n",
       " tensor(0.1233),\n",
       " tensor(0.0858),\n",
       " tensor(0.0943),\n",
       " tensor(0.0961),\n",
       " tensor(0.0937),\n",
       " tensor(0.1067),\n",
       " tensor(0.1124),\n",
       " tensor(0.0990),\n",
       " tensor(0.0958),\n",
       " tensor(0.0875),\n",
       " tensor(0.0879),\n",
       " tensor(0.0917),\n",
       " tensor(0.1105),\n",
       " tensor(0.1046),\n",
       " tensor(0.1002),\n",
       " tensor(0.0875),\n",
       " tensor(0.0928),\n",
       " tensor(0.0963),\n",
       " tensor(0.1136),\n",
       " tensor(0.1114),\n",
       " tensor(0.0976),\n",
       " tensor(0.0945),\n",
       " tensor(0.0923),\n",
       " tensor(0.0969),\n",
       " tensor(0.1207),\n",
       " tensor(0.0964),\n",
       " tensor(0.1139),\n",
       " tensor(0.0962),\n",
       " tensor(0.0907),\n",
       " tensor(0.1155),\n",
       " tensor(0.1260),\n",
       " tensor(0.1024),\n",
       " tensor(0.1136),\n",
       " tensor(0.0953),\n",
       " tensor(0.0882),\n",
       " tensor(0.1133),\n",
       " tensor(0.1093),\n",
       " tensor(0.0976),\n",
       " tensor(0.0949),\n",
       " tensor(0.1038),\n",
       " tensor(0.1005),\n",
       " tensor(0.1081),\n",
       " tensor(0.1127),\n",
       " tensor(0.1081),\n",
       " tensor(0.1044),\n",
       " tensor(0.0953),\n",
       " tensor(0.0918),\n",
       " tensor(0.1066),\n",
       " tensor(0.1191),\n",
       " tensor(0.0974),\n",
       " tensor(0.1110),\n",
       " tensor(0.0928),\n",
       " tensor(0.0905),\n",
       " tensor(0.0956),\n",
       " tensor(0.1138),\n",
       " tensor(0.1098),\n",
       " tensor(0.1074),\n",
       " tensor(0.0983),\n",
       " tensor(0.0957),\n",
       " tensor(0.1138),\n",
       " tensor(0.1104),\n",
       " tensor(0.0970),\n",
       " tensor(0.1133),\n",
       " tensor(0.0951),\n",
       " tensor(0.0945),\n",
       " tensor(0.1024),\n",
       " tensor(0.1183),\n",
       " tensor(0.1037),\n",
       " tensor(0.1191),\n",
       " tensor(0.0853),\n",
       " tensor(0.0778),\n",
       " tensor(0.0993),\n",
       " tensor(0.1116),\n",
       " tensor(0.1108),\n",
       " tensor(0.1053),\n",
       " tensor(0.0928),\n",
       " tensor(0.1008),\n",
       " tensor(0.1176),\n",
       " tensor(0.1180),\n",
       " tensor(0.1016),\n",
       " tensor(0.1131),\n",
       " tensor(0.0899),\n",
       " tensor(0.0857),\n",
       " tensor(0.1123),\n",
       " tensor(0.1190),\n",
       " tensor(0.1042),\n",
       " tensor(0.1169),\n",
       " tensor(0.0976),\n",
       " tensor(0.0890),\n",
       " tensor(0.1057),\n",
       " tensor(0.1202),\n",
       " tensor(0.1264),\n",
       " tensor(0.1055),\n",
       " tensor(0.0840),\n",
       " tensor(0.0885),\n",
       " tensor(0.1027),\n",
       " tensor(0.1201),\n",
       " tensor(0.1086),\n",
       " tensor(0.1127),\n",
       " tensor(0.0924),\n",
       " tensor(0.1047),\n",
       " tensor(0.1016),\n",
       " tensor(0.1119),\n",
       " tensor(0.1068),\n",
       " tensor(0.0904),\n",
       " tensor(0.0937),\n",
       " tensor(0.0937),\n",
       " tensor(0.1016),\n",
       " tensor(0.0936),\n",
       " tensor(0.1009),\n",
       " tensor(0.1056),\n",
       " tensor(0.0815),\n",
       " tensor(0.0941),\n",
       " tensor(0.0911),\n",
       " tensor(0.1115),\n",
       " tensor(0.0938),\n",
       " tensor(0.0943),\n",
       " tensor(0.0904),\n",
       " tensor(0.0878),\n",
       " tensor(0.1024),\n",
       " tensor(0.1207),\n",
       " tensor(0.1018),\n",
       " tensor(0.0977),\n",
       " tensor(0.0806),\n",
       " tensor(0.0972),\n",
       " tensor(0.0911),\n",
       " tensor(0.1245),\n",
       " tensor(0.0992),\n",
       " tensor(0.1052),\n",
       " tensor(0.0847),\n",
       " tensor(0.0804),\n",
       " tensor(0.0986),\n",
       " tensor(0.1194),\n",
       " tensor(0.1175),\n",
       " tensor(0.0957),\n",
       " tensor(0.1009),\n",
       " tensor(0.0845),\n",
       " tensor(0.1069),\n",
       " tensor(0.1098),\n",
       " tensor(0.1108),\n",
       " tensor(0.1144),\n",
       " tensor(0.0911),\n",
       " tensor(0.0890),\n",
       " tensor(0.1095),\n",
       " tensor(0.1109),\n",
       " tensor(0.0987),\n",
       " tensor(0.1124),\n",
       " tensor(0.0947),\n",
       " tensor(0.0951),\n",
       " tensor(0.1118),\n",
       " tensor(0.1178),\n",
       " tensor(0.1003),\n",
       " tensor(0.0994),\n",
       " tensor(0.0830),\n",
       " tensor(0.0877),\n",
       " tensor(0.1085),\n",
       " tensor(0.1082),\n",
       " tensor(0.0905),\n",
       " tensor(0.0900),\n",
       " tensor(0.0862),\n",
       " tensor(0.0860),\n",
       " tensor(0.0983),\n",
       " tensor(0.1243),\n",
       " tensor(0.1013),\n",
       " tensor(0.1144),\n",
       " tensor(0.0969),\n",
       " tensor(0.0967),\n",
       " tensor(0.1171),\n",
       " tensor(0.1002),\n",
       " tensor(0.0932),\n",
       " tensor(0.0952),\n",
       " tensor(0.0995),\n",
       " tensor(0.1017),\n",
       " tensor(0.1100),\n",
       " tensor(0.1119),\n",
       " tensor(0.1171),\n",
       " tensor(0.1181),\n",
       " tensor(0.0858),\n",
       " tensor(0.0990),\n",
       " tensor(0.1054),\n",
       " tensor(0.1177),\n",
       " tensor(0.1202),\n",
       " tensor(0.0974),\n",
       " tensor(0.0938),\n",
       " tensor(0.0947),\n",
       " tensor(0.1138),\n",
       " tensor(0.1184),\n",
       " tensor(0.1136),\n",
       " tensor(0.0982),\n",
       " tensor(0.0908),\n",
       " tensor(0.0985),\n",
       " tensor(0.0949),\n",
       " tensor(0.1249),\n",
       " tensor(0.1048),\n",
       " tensor(0.1070),\n",
       " tensor(0.0923),\n",
       " tensor(0.0806),\n",
       " tensor(0.1096),\n",
       " tensor(0.1107),\n",
       " tensor(0.0913),\n",
       " tensor(0.1042),\n",
       " tensor(0.0947),\n",
       " tensor(0.0864),\n",
       " tensor(0.1054),\n",
       " tensor(0.1209),\n",
       " tensor(0.1122),\n",
       " tensor(0.1111),\n",
       " tensor(0.0826),\n",
       " tensor(0.0960),\n",
       " tensor(0.1168),\n",
       " tensor(0.1141),\n",
       " tensor(0.1045),\n",
       " tensor(0.1116),\n",
       " tensor(0.0865),\n",
       " tensor(0.1055),\n",
       " tensor(0.1050),\n",
       " tensor(0.1111),\n",
       " tensor(0.1135),\n",
       " tensor(0.1018),\n",
       " tensor(0.0860),\n",
       " tensor(0.0851),\n",
       " tensor(0.1102),\n",
       " tensor(0.1274),\n",
       " tensor(0.0865),\n",
       " tensor(0.0895),\n",
       " tensor(0.0873),\n",
       " tensor(0.0809),\n",
       " tensor(0.1185),\n",
       " tensor(0.1184),\n",
       " tensor(0.0976),\n",
       " tensor(0.1331),\n",
       " tensor(0.1013),\n",
       " tensor(0.0815),\n",
       " tensor(0.0999),\n",
       " tensor(0.1101),\n",
       " tensor(0.0956),\n",
       " tensor(0.0992),\n",
       " tensor(0.0830),\n",
       " tensor(0.0971),\n",
       " tensor(0.1110),\n",
       " tensor(0.1143),\n",
       " tensor(0.1059),\n",
       " tensor(0.1067),\n",
       " tensor(0.0874),\n",
       " tensor(0.0814),\n",
       " tensor(0.1006),\n",
       " tensor(0.1137),\n",
       " tensor(0.0989),\n",
       " tensor(0.1143),\n",
       " tensor(0.1072),\n",
       " tensor(0.0902),\n",
       " tensor(0.1090),\n",
       " tensor(0.1170),\n",
       " tensor(0.0974),\n",
       " tensor(0.0925),\n",
       " tensor(0.1001),\n",
       " tensor(0.0789),\n",
       " tensor(0.1254),\n",
       " tensor(0.0926),\n",
       " tensor(0.1024),\n",
       " tensor(0.1149),\n",
       " tensor(0.0857),\n",
       " tensor(0.0974),\n",
       " tensor(0.0971),\n",
       " tensor(0.1047),\n",
       " tensor(0.1095),\n",
       " tensor(0.0960),\n",
       " tensor(0.0854),\n",
       " tensor(0.1020),\n",
       " tensor(0.0954),\n",
       " tensor(0.1071),\n",
       " tensor(0.1167),\n",
       " tensor(0.0989),\n",
       " tensor(0.0730),\n",
       " tensor(0.1072),\n",
       " tensor(0.1016),\n",
       " tensor(0.1256),\n",
       " tensor(0.0936),\n",
       " tensor(0.1175),\n",
       " tensor(0.1017),\n",
       " tensor(0.0897),\n",
       " tensor(0.1082),\n",
       " tensor(0.1095),\n",
       " tensor(0.1043),\n",
       " tensor(0.0985),\n",
       " tensor(0.1014),\n",
       " tensor(0.1052),\n",
       " tensor(0.1056),\n",
       " tensor(0.1179),\n",
       " tensor(0.1063),\n",
       " tensor(0.0874),\n",
       " tensor(0.0959),\n",
       " tensor(0.1102),\n",
       " tensor(0.1031),\n",
       " tensor(0.1106),\n",
       " tensor(0.0964),\n",
       " tensor(0.0877),\n",
       " tensor(0.0855)]"
      ]
     },
     "execution_count": 88,
     "metadata": {},
     "output_type": "execute_result"
    }
   ],
   "source": [
    "f1_record"
   ]
  }
 ],
 "metadata": {
  "interpreter": {
   "hash": "31f2aee4e71d21fbe5cf8b01ff0e069b9275f58929596ceb00d14d90e3e16cd6"
  },
  "kernelspec": {
   "display_name": "Python 3 (ipykernel)",
   "language": "python",
   "name": "python3"
  },
  "language_info": {
   "codemirror_mode": {
    "name": "ipython",
    "version": 3
   },
   "file_extension": ".py",
   "mimetype": "text/x-python",
   "name": "python",
   "nbconvert_exporter": "python",
   "pygments_lexer": "ipython3",
   "version": "3.8.10"
  },
  "orig_nbformat": 4
 },
 "nbformat": 4,
 "nbformat_minor": 2
}
