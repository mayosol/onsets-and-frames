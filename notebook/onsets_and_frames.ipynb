{
 "cells": [
  {
   "cell_type": "markdown",
   "metadata": {},
   "source": [
    "## Data Unzip"
   ]
  },
  {
   "cell_type": "code",
   "execution_count": 1,
   "metadata": {},
   "outputs": [],
   "source": [
    "import numpy as np\n",
    "from torch.utils.data import DataLoader\n",
    "from tqdm import tqdm\n",
    "import random\n",
    "\n",
    "import torch\n",
    "import torch.nn as nn\n",
    "import torchaudio\n",
    "import IPython.display as ipd\n",
    "import matplotlib.pyplot as plt\n",
    "from pathlib import Path\n",
    "import zipfile\n",
    "from glob import glob\n",
    "\n",
    "import pretty_midi\n",
    "pretty_midi.pretty_midi.MAX_TICK = 1e10\n",
    "\n",
    "torch.set_printoptions(sci_mode=False)"
   ]
  },
  {
   "cell_type": "code",
   "execution_count": 2,
   "metadata": {},
   "outputs": [],
   "source": [
    "maps_path = Path('/Users/idasol/Desktop/Visual_Studio_Projects/onsets_and_frames/maps')\n",
    "\n",
    "# UNZIP\n",
    "maps_piano_path = list(maps_path.rglob('*_2.zip'))\n",
    "# for path in maps_piano_path:\n",
    "#     zipfile.ZipFile(path).extractall(maps_path)"
   ]
  },
  {
   "cell_type": "code",
   "execution_count": 3,
   "metadata": {},
   "outputs": [],
   "source": [
    "def time2frame(time, sr=16000, hop_length=512):\n",
    "    return round((time * sr) / hop_length)"
   ]
  },
  {
   "cell_type": "code",
   "execution_count": 4,
   "metadata": {},
   "outputs": [],
   "source": [
    "class MAPSDataset:\n",
    "    def __init__(self, dir_path, split, sr=16000):\n",
    "        self.sr = sr\n",
    "        self.hop_length = 512\n",
    "        self.dir_path = list(dir_path.glob('./*/*/'))\n",
    "        self.frame_per_sec =  self.sr/self.hop_length\n",
    "\n",
    "        # split train, test set\n",
    "        train_folder = ['AkPnBcht', 'AkPnBsdf', 'AkPnCGdD', 'AkPnStgb', 'SptkBGAm', 'SptkBGCl', 'StbgTGd2']\n",
    "        test_folder = ['ENSTDkAm', 'ENSTDkCl']\n",
    "        self.target_folder = train_folder if split=='train' else test_folder\n",
    "\n",
    "        self._load_data()\n",
    "\n",
    "    def get_piano_roll(self, path):\n",
    "        # make label - total\n",
    "        midi = pretty_midi.PrettyMIDI(midi_file=path)\n",
    "        total = midi.get_piano_roll(fs=self.frame_per_sec, times=None, pedal_threshold=64)\n",
    "        total[total > 0] = 1 # remove velocity\n",
    "        total = total[21:109]\n",
    "        # make label - onset\n",
    "        onset = np.zeros_like(total)\n",
    "        for note in midi.instruments[0].notes:\n",
    "            onset[int(note.pitch) - 21, int(note.start * self.frame_per_sec)] = 1\n",
    "        pianoroll = np.stack([total, onset], axis=0)\n",
    "        return pianoroll\n",
    "\n",
    "    def _load_data(self):\n",
    "        # make lists of wav, midi paths\n",
    "        self.audio = []\n",
    "        self.roll = []\n",
    "        for path in self.dir_path:\n",
    "            folder = path.parent.name\n",
    "            wav_files = list(path.rglob('*.wav'))\n",
    "            missing_list = []\n",
    "\n",
    "            if folder in self.target_folder:\n",
    "                for file in wav_files:\n",
    "                    midi = file.with_suffix('.mid')\n",
    "                    if not midi.exists():\n",
    "                        missing_list.append(id)\n",
    "                        continue\n",
    "                    roll = self.get_piano_roll(str(midi))\n",
    "                    self.audio.append(file)\n",
    "                    self.roll.append(roll)\n",
    "        print(missing_list)\n",
    "\n",
    "    def __len__(self):\n",
    "        return len(self.audio)\n",
    "        \n",
    "    def __getitem__(self, idx):\n",
    "        audio, sr = torchaudio.load(self.audio[idx])\n",
    "        audio = torchaudio.functional.resample(audio, sr, self.sr)\n",
    "        roll = self.roll[idx]\n",
    "        start = random.randint(0, len(audio[0]) - (self.sr * 25) - 1)\n",
    "        end = start + (self.sr * 20)\n",
    "        sliced_audio = audio[:, start:end].mean(dim=0) # stereo to mono\n",
    "\n",
    "        start_roll = time2frame(start/self.sr)\n",
    "        end_roll = start_roll + int(20 * self.sr/512)\n",
    "        sliced_roll = roll[:, :, start_roll:end_roll]\n",
    "\n",
    "        return sliced_audio, sliced_roll"
   ]
  },
  {
   "cell_type": "code",
   "execution_count": 5,
   "metadata": {},
   "outputs": [
    {
     "name": "stdout",
     "output_type": "stream",
     "text": [
      "[]\n",
      "[]\n"
     ]
    }
   ],
   "source": [
    "trainset = MAPSDataset(maps_path, 'train')\n",
    "testset = MAPSDataset(maps_path, 'test')"
   ]
  },
  {
   "cell_type": "code",
   "execution_count": 6,
   "metadata": {},
   "outputs": [],
   "source": [
    "train_loader = DataLoader(trainset, batch_size=8, shuffle=True, num_workers=0)\n",
    "test_loader = DataLoader(testset, batch_size=10, num_workers=0)\n",
    "batch = next(iter(train_loader))"
   ]
  },
  {
   "cell_type": "code",
   "execution_count": 7,
   "metadata": {},
   "outputs": [
    {
     "data": {
      "text/plain": [
       "(torch.Size([8, 320000]), torch.Size([8, 2, 88, 625]))"
      ]
     },
     "execution_count": 7,
     "metadata": {},
     "output_type": "execute_result"
    }
   ],
   "source": [
    "batch[0].shape, batch[1].shape"
   ]
  },
  {
   "cell_type": "markdown",
   "metadata": {},
   "source": [
    "#### Label끼리 잘 맞나 확인"
   ]
  },
  {
   "cell_type": "code",
   "execution_count": 8,
   "metadata": {},
   "outputs": [],
   "source": [
    "def check_label(split: str, idx, slice: int):\n",
    "    if split == 'train':\n",
    "        label = trainset.roll[idx]\n",
    "    elif split == 'test':\n",
    "        label = testset.roll[idx]\n",
    "    plt.figure(figsize=(15, 7))\n",
    "    plt.imshow((label[0] + label[1])[:, :slice], aspect='auto', interpolation='nearest', origin='lower')"
   ]
  },
  {
   "cell_type": "code",
   "execution_count": 9,
   "metadata": {},
   "outputs": [
    {
     "data": {
      "image/png": "[encoded data removed]",
      "text/plain": [
       "<Figure size 1080x504 with 1 Axes>"
      ]
     },
     "metadata": {
      "needs_background": "light"
     },
     "output_type": "display_data"
    }
   ],
   "source": [
    "check_label('train', 17, 300)"
   ]
  },
  {
   "cell_type": "markdown",
   "metadata": {},
   "source": [
    "#### audio-label끼리 잘 맞나 확인"
   ]
  },
  {
   "cell_type": "code",
   "execution_count": 10,
   "metadata": {},
   "outputs": [],
   "source": [
    "test_audio, test_roll = trainset[77]"
   ]
  },
  {
   "cell_type": "code",
   "execution_count": 11,
   "metadata": {},
   "outputs": [
    {
     "data": {
      "text/plain": [
       "<matplotlib.image.AxesImage at 0x11f366eb0>"
      ]
     },
     "execution_count": 11,
     "metadata": {},
     "output_type": "execute_result"
    },
    {
     "data": {
      "image/png": "[encoded data removed]",
      "text/plain": [
       "<Figure size 1080x504 with 1 Axes>"
      ]
     },
     "metadata": {
      "needs_background": "light"
     },
     "output_type": "display_data"
    }
   ],
   "source": [
    "plt.figure(figsize=(15, 7))\n",
    "plt.imshow(test_roll[0], aspect='auto', interpolation='nearest', origin='lower')"
   ]
  },
  {
   "cell_type": "code",
   "execution_count": 12,
   "metadata": {},
   "outputs": [
    {
     "data": {
      "text/plain": [
       "torch.Size([1, 320000])"
      ]
     },
     "execution_count": 12,
     "metadata": {},
     "output_type": "execute_result"
    }
   ],
   "source": [
    "test_audio = test_audio.view([1, -1])\n",
    "test_audio.shape"
   ]
  },
  {
   "cell_type": "code",
   "execution_count": 13,
   "metadata": {},
   "outputs": [],
   "source": [
    "torchaudio.save(filepath='/Users/idasol/Desktop/Visual_Studio_Projects/onsets_and_frames/audio_samples/sample8.wav', src= test_audio, sample_rate=16000)"
   ]
  },
  {
   "cell_type": "markdown",
   "metadata": {},
   "source": [
    "## Model"
   ]
  },
  {
   "cell_type": "code",
   "execution_count": 15,
   "metadata": {},
   "outputs": [],
   "source": [
    "def pitch2hz(pitch):\n",
    "    return 2 ** ((pitch-69) / 12) * 440"
   ]
  },
  {
   "cell_type": "code",
   "execution_count": 25,
   "metadata": {},
   "outputs": [
    {
     "data": {
      "text/plain": [
       "torch.Size([8, 1, 352, 626])"
      ]
     },
     "execution_count": 25,
     "metadata": {},
     "output_type": "execute_result"
    }
   ],
   "source": [
    "mel_converter = torchaudio.transforms.MelSpectrogram(sample_rate=16000,\n",
    "                                                                  n_fft = 2048,\n",
    "                                                                  hop_length = 512,\n",
    "                                                                  f_min = 20,\n",
    "                                                                  f_max = 8000,\n",
    "                                                                  n_mels = 88 * 4,\n",
    "                                                            )\n",
    "\n",
    "test_mel = mel_converter(batch[0])\n",
    "test_mel = test_mel.unsqueeze(1)\n",
    "test_mel.shape"
   ]
  },
  {
   "cell_type": "code",
   "execution_count": 32,
   "metadata": {},
   "outputs": [
    {
     "name": "stdout",
     "output_type": "stream",
     "text": [
      "torch.Size([8, 256, 88, 626])\n",
      "torch.Size([8, 22528, 626])\n",
      "torch.Size([8, 626, 256])\n"
     ]
    },
    {
     "data": {
      "text/plain": [
       "torch.Size([8, 88, 626])"
      ]
     },
     "execution_count": 32,
     "metadata": {},
     "output_type": "execute_result"
    }
   ],
   "source": [
    "class OnsetModule(nn.Module):\n",
    "    def __init__(self, hidden_size=256): # 논문에서는 128?\n",
    "        super().__init__()\n",
    "\n",
    "        self.cnn = nn.Sequential(nn.Conv2d(1, hidden_size//4, kernel_size=(3, 3), padding=1),\n",
    "                                 nn.BatchNorm2d(hidden_size//4),\n",
    "                                 nn.MaxPool2d((2, 1)),\n",
    "                                 nn.ReLU(),\n",
    "                                 \n",
    "                                 nn.Conv2d(hidden_size//4, hidden_size//2, kernel_size=(3, 3), padding=1),\n",
    "                                 nn.BatchNorm2d(hidden_size//2),\n",
    "                                 nn.MaxPool2d((2, 1)),\n",
    "                                 nn.ReLU(),\n",
    "                                 \n",
    "                                 nn.Conv2d(hidden_size//2, hidden_size, kernel_size=(3, 3), padding=1),\n",
    "                                 nn.BatchNorm2d(hidden_size),\n",
    "                                 nn.ReLU(),)\n",
    "                                 \n",
    "        self.fc = nn.Linear(88 * hidden_size, hidden_size)\n",
    "        self.lstm = nn.LSTM(hidden_size, hidden_size, num_layers=3, bidirectional=True, batch_first=True)\n",
    "        self.projection = nn.Linear(hidden_size * 2, 88)\n",
    "\n",
    "    def forward(self, mel_spec):\n",
    "        conv_out = self.cnn(mel_spec)\n",
    "        print(conv_out.shape)\n",
    "        conv_out = conv_out.reshape(mel_spec.shape[0], -1, mel_spec.shape[-1])\n",
    "        print(conv_out.shape)\n",
    "        fc_out = self.fc(conv_out.permute(0, 2, 1))\n",
    "        print(fc_out.shape)\n",
    "        hidden_out, last_hidden = self.lstm(fc_out)\n",
    "        logit = self.projection(hidden_out)\n",
    "        prob = torch.sigmoid(logit)\n",
    "\n",
    "        return prob.permute(0, 2, 1) # pianoroll 형식으로 변환\n",
    "        \n",
    "\n",
    "model = OnsetModule()\n",
    "onset_out = model(test_mel)\n",
    "onset_out.shape"
   ]
  },
  {
   "cell_type": "code",
   "execution_count": 33,
   "metadata": {},
   "outputs": [
    {
     "name": "stdout",
     "output_type": "stream",
     "text": [
      "torch.Size([8, 22528, 626])\n",
      "torch.Size([8, 626, 88])\n",
      "torch.Size([8, 626, 176])\n"
     ]
    },
    {
     "data": {
      "text/plain": [
       "torch.Size([8, 88, 626])"
      ]
     },
     "execution_count": 33,
     "metadata": {},
     "output_type": "execute_result"
    }
   ],
   "source": [
    "class FrameModule(nn.Module):\n",
    "    def __init__(self, hidden_size=256):\n",
    "        super().__init__()\n",
    "\n",
    "        self.cnn = nn.Sequential(nn.Conv2d(1, hidden_size//4, kernel_size=(3, 3), padding=1),\n",
    "                                 nn.BatchNorm2d(hidden_size//4),\n",
    "                                 nn.MaxPool2d((2, 1)),\n",
    "                                 nn.ReLU(),\n",
    "                                 \n",
    "                                 nn.Conv2d(hidden_size//4, hidden_size//2, kernel_size=(3, 3), padding=1),\n",
    "                                 nn.BatchNorm2d(hidden_size//2),\n",
    "                                 nn.MaxPool2d((2, 1)),\n",
    "                                 nn.ReLU(),\n",
    "                                 \n",
    "                                 nn.Conv2d(hidden_size//2, hidden_size, kernel_size=(3, 3), padding=1),\n",
    "                                 nn.BatchNorm2d(hidden_size),\n",
    "                                 nn.ReLU(),)\n",
    "                                 \n",
    "        self.fc = nn.Linear(88 * hidden_size, 88) \n",
    "        self.lstm = nn.LSTM(88 * 2, hidden_size, num_layers=3, bidirectional=True, batch_first=True)\n",
    "        self.projection = nn.Linear(hidden_size * 2, 88)\n",
    "\n",
    "    def forward(self, mel_spec, onset_out):\n",
    "        conv_out = self.cnn(mel_spec)\n",
    "        conv_out = conv_out.reshape(mel_spec.shape[0], -1, mel_spec.shape[-1])\n",
    "        print(conv_out.shape)\n",
    "        fc_out = self.fc(conv_out.permute(0, 2, 1))\n",
    "        print(fc_out.shape)\n",
    "        total_fc_out = torch.concat([onset_out.permute(0, 2, 1), fc_out], dim=2)\n",
    "        print(total_fc_out.shape)\n",
    "        hidden_out, last_hidden = self.lstm(total_fc_out)\n",
    "\n",
    "        logit = self.projection(hidden_out)\n",
    "        prob = torch.sigmoid(logit)\n",
    "        \n",
    "        return prob.permute(0, 2, 1) # pianoroll 형식으로 변환\n",
    "\n",
    "model = FrameModule()\n",
    "frame_out = model(test_mel, onset_out)\n",
    "frame_out.shape"
   ]
  },
  {
   "cell_type": "code",
   "execution_count": 35,
   "metadata": {},
   "outputs": [
    {
     "name": "stdout",
     "output_type": "stream",
     "text": [
      "torch.Size([8, 256, 88, 626])\n",
      "torch.Size([8, 22528, 626])\n",
      "torch.Size([8, 626, 256])\n",
      "torch.Size([8, 22528, 626])\n",
      "torch.Size([8, 626, 88])\n",
      "torch.Size([8, 626, 176])\n"
     ]
    }
   ],
   "source": [
    "class OnsetAndFrameModel(nn.Module):\n",
    "    def __init__(self, hidden_size=256):\n",
    "        super().__init__()\n",
    "        self.mel_converter = torchaudio.transforms.MelSpectrogram(sample_rate=16000,\n",
    "                                                                  n_fft = 2048,\n",
    "                                                                  hop_length = 512,\n",
    "                                                                  f_min = 20,\n",
    "                                                                  f_max = 8000,\n",
    "                                                                  n_mels = 88 * 4,\n",
    "                                                            )\n",
    "        self.onset_module = OnsetModule()\n",
    "        self.frame_module = FrameModule()\n",
    "\n",
    "    def forward(self, x):\n",
    "        assert isinstance(x, torch.Tensor) and x.ndim == 2\n",
    "        mel_spec = self.mel_converter(x) # batch size x num mels x time\n",
    "        mel_spec = mel_spec.unsqueeze(1)\n",
    "\n",
    "        onset_out = self.onset_module(mel_spec)\n",
    "        frame_out = self.frame_module(mel_spec, onset_out)\n",
    "        return onset_out, frame_out\n",
    "\n",
    "model = OnsetAndFrameModel()\n",
    "onset_out, frame_out = model(batch[0])"
   ]
  },
  {
   "cell_type": "code",
   "execution_count": 37,
   "metadata": {},
   "outputs": [
    {
     "data": {
      "text/plain": [
       "(tensor(0.6927, dtype=torch.float64, grad_fn=<NegBackward0>),\n",
       " tensor(0.6954, dtype=torch.float64, grad_fn=<NegBackward0>))"
      ]
     },
     "execution_count": 37,
     "metadata": {},
     "output_type": "execute_result"
    }
   ],
   "source": [
    "def get_binary_cross_entropy_loss(pred, target, eps=1e-7):\n",
    "    return -(target * torch.log(pred+eps) + (1-target) * torch.log((1-pred)+eps)).mean()\n",
    "\n",
    "onset_loss = get_binary_cross_entropy_loss(onset_out[..., :-1], batch[1][0, 1])\n",
    "frame_loss = get_binary_cross_entropy_loss(frame_out[..., :-1], batch[1][0, 0])\n",
    "\n",
    "onset_loss, frame_loss"
   ]
  },
  {
   "cell_type": "code",
   "execution_count": 144,
   "metadata": {},
   "outputs": [
    {
     "name": "stderr",
     "output_type": "stream",
     "text": [
      "  0%|          | 0/5 [00:19<?, ?it/s]\n"
     ]
    },
    {
     "ename": "ValueError",
     "evalue": "empty range for randrange() (0, -38, -38)",
     "output_type": "error",
     "traceback": [
      "\u001b[0;31m---------------------------------------------------------------------------\u001b[0m",
      "\u001b[0;31mValueError\u001b[0m                                Traceback (most recent call last)",
      "\u001b[1;32m/Users/idasol/Desktop/Visual Studio Projects/onsets_and_frames/baseline.ipynb Cell 22'\u001b[0m in \u001b[0;36m<cell line: 8>\u001b[0;34m()\u001b[0m\n\u001b[1;32m      <a href='vscode-notebook-cell:/Users/idasol/Desktop/Visual%20Studio%20Projects/onsets_and_frames/baseline.ipynb#ch0000015?line=5'>6</a>\u001b[0m model\u001b[39m.\u001b[39mtrain()\n\u001b[1;32m      <a href='vscode-notebook-cell:/Users/idasol/Desktop/Visual%20Studio%20Projects/onsets_and_frames/baseline.ipynb#ch0000015?line=7'>8</a>\u001b[0m \u001b[39mfor\u001b[39;00m epoch \u001b[39min\u001b[39;00m  tqdm(\u001b[39mrange\u001b[39m(num_epochs)):\n\u001b[0;32m----> <a href='vscode-notebook-cell:/Users/idasol/Desktop/Visual%20Studio%20Projects/onsets_and_frames/baseline.ipynb#ch0000015?line=8'>9</a>\u001b[0m     \u001b[39mfor\u001b[39;00m batch \u001b[39min\u001b[39;00m tqdm(train_loader, leave\u001b[39m=\u001b[39m\u001b[39mFalse\u001b[39;00m):\n\u001b[1;32m     <a href='vscode-notebook-cell:/Users/idasol/Desktop/Visual%20Studio%20Projects/onsets_and_frames/baseline.ipynb#ch0000015?line=9'>10</a>\u001b[0m         audio, roll \u001b[39m=\u001b[39m batch\n\u001b[1;32m     <a href='vscode-notebook-cell:/Users/idasol/Desktop/Visual%20Studio%20Projects/onsets_and_frames/baseline.ipynb#ch0000015?line=10'>11</a>\u001b[0m         out \u001b[39m=\u001b[39m model(audio)\n",
      "File \u001b[0;32m~/Library/Python/3.8/lib/python/site-packages/tqdm/std.py:1195\u001b[0m, in \u001b[0;36mtqdm.__iter__\u001b[0;34m(self)\u001b[0m\n\u001b[1;32m   <a href='file:///Users/idasol/Library/Python/3.8/lib/python/site-packages/tqdm/std.py?line=1191'>1192</a>\u001b[0m time \u001b[39m=\u001b[39m \u001b[39mself\u001b[39m\u001b[39m.\u001b[39m_time\n\u001b[1;32m   <a href='file:///Users/idasol/Library/Python/3.8/lib/python/site-packages/tqdm/std.py?line=1193'>1194</a>\u001b[0m \u001b[39mtry\u001b[39;00m:\n\u001b[0;32m-> <a href='file:///Users/idasol/Library/Python/3.8/lib/python/site-packages/tqdm/std.py?line=1194'>1195</a>\u001b[0m     \u001b[39mfor\u001b[39;00m obj \u001b[39min\u001b[39;00m iterable:\n\u001b[1;32m   <a href='file:///Users/idasol/Library/Python/3.8/lib/python/site-packages/tqdm/std.py?line=1195'>1196</a>\u001b[0m         \u001b[39myield\u001b[39;00m obj\n\u001b[1;32m   <a href='file:///Users/idasol/Library/Python/3.8/lib/python/site-packages/tqdm/std.py?line=1196'>1197</a>\u001b[0m         \u001b[39m# Update and possibly print the progressbar.\u001b[39;00m\n\u001b[1;32m   <a href='file:///Users/idasol/Library/Python/3.8/lib/python/site-packages/tqdm/std.py?line=1197'>1198</a>\u001b[0m         \u001b[39m# Note: does not call self.update(1) for speed optimisation.\u001b[39;00m\n",
      "File \u001b[0;32m~/Library/Python/3.8/lib/python/site-packages/torch/utils/data/dataloader.py:530\u001b[0m, in \u001b[0;36m_BaseDataLoaderIter.__next__\u001b[0;34m(self)\u001b[0m\n\u001b[1;32m    <a href='file:///Users/idasol/Library/Python/3.8/lib/python/site-packages/torch/utils/data/dataloader.py?line=527'>528</a>\u001b[0m \u001b[39mif\u001b[39;00m \u001b[39mself\u001b[39m\u001b[39m.\u001b[39m_sampler_iter \u001b[39mis\u001b[39;00m \u001b[39mNone\u001b[39;00m:\n\u001b[1;32m    <a href='file:///Users/idasol/Library/Python/3.8/lib/python/site-packages/torch/utils/data/dataloader.py?line=528'>529</a>\u001b[0m     \u001b[39mself\u001b[39m\u001b[39m.\u001b[39m_reset()\n\u001b[0;32m--> <a href='file:///Users/idasol/Library/Python/3.8/lib/python/site-packages/torch/utils/data/dataloader.py?line=529'>530</a>\u001b[0m data \u001b[39m=\u001b[39m \u001b[39mself\u001b[39;49m\u001b[39m.\u001b[39;49m_next_data()\n\u001b[1;32m    <a href='file:///Users/idasol/Library/Python/3.8/lib/python/site-packages/torch/utils/data/dataloader.py?line=530'>531</a>\u001b[0m \u001b[39mself\u001b[39m\u001b[39m.\u001b[39m_num_yielded \u001b[39m+\u001b[39m\u001b[39m=\u001b[39m \u001b[39m1\u001b[39m\n\u001b[1;32m    <a href='file:///Users/idasol/Library/Python/3.8/lib/python/site-packages/torch/utils/data/dataloader.py?line=531'>532</a>\u001b[0m \u001b[39mif\u001b[39;00m \u001b[39mself\u001b[39m\u001b[39m.\u001b[39m_dataset_kind \u001b[39m==\u001b[39m _DatasetKind\u001b[39m.\u001b[39mIterable \u001b[39mand\u001b[39;00m \\\n\u001b[1;32m    <a href='file:///Users/idasol/Library/Python/3.8/lib/python/site-packages/torch/utils/data/dataloader.py?line=532'>533</a>\u001b[0m         \u001b[39mself\u001b[39m\u001b[39m.\u001b[39m_IterableDataset_len_called \u001b[39mis\u001b[39;00m \u001b[39mnot\u001b[39;00m \u001b[39mNone\u001b[39;00m \u001b[39mand\u001b[39;00m \\\n\u001b[1;32m    <a href='file:///Users/idasol/Library/Python/3.8/lib/python/site-packages/torch/utils/data/dataloader.py?line=533'>534</a>\u001b[0m         \u001b[39mself\u001b[39m\u001b[39m.\u001b[39m_num_yielded \u001b[39m>\u001b[39m \u001b[39mself\u001b[39m\u001b[39m.\u001b[39m_IterableDataset_len_called:\n",
      "File \u001b[0;32m~/Library/Python/3.8/lib/python/site-packages/torch/utils/data/dataloader.py:570\u001b[0m, in \u001b[0;36m_SingleProcessDataLoaderIter._next_data\u001b[0;34m(self)\u001b[0m\n\u001b[1;32m    <a href='file:///Users/idasol/Library/Python/3.8/lib/python/site-packages/torch/utils/data/dataloader.py?line=567'>568</a>\u001b[0m \u001b[39mdef\u001b[39;00m \u001b[39m_next_data\u001b[39m(\u001b[39mself\u001b[39m):\n\u001b[1;32m    <a href='file:///Users/idasol/Library/Python/3.8/lib/python/site-packages/torch/utils/data/dataloader.py?line=568'>569</a>\u001b[0m     index \u001b[39m=\u001b[39m \u001b[39mself\u001b[39m\u001b[39m.\u001b[39m_next_index()  \u001b[39m# may raise StopIteration\u001b[39;00m\n\u001b[0;32m--> <a href='file:///Users/idasol/Library/Python/3.8/lib/python/site-packages/torch/utils/data/dataloader.py?line=569'>570</a>\u001b[0m     data \u001b[39m=\u001b[39m \u001b[39mself\u001b[39;49m\u001b[39m.\u001b[39;49m_dataset_fetcher\u001b[39m.\u001b[39;49mfetch(index)  \u001b[39m# may raise StopIteration\u001b[39;00m\n\u001b[1;32m    <a href='file:///Users/idasol/Library/Python/3.8/lib/python/site-packages/torch/utils/data/dataloader.py?line=570'>571</a>\u001b[0m     \u001b[39mif\u001b[39;00m \u001b[39mself\u001b[39m\u001b[39m.\u001b[39m_pin_memory:\n\u001b[1;32m    <a href='file:///Users/idasol/Library/Python/3.8/lib/python/site-packages/torch/utils/data/dataloader.py?line=571'>572</a>\u001b[0m         data \u001b[39m=\u001b[39m _utils\u001b[39m.\u001b[39mpin_memory\u001b[39m.\u001b[39mpin_memory(data)\n",
      "File \u001b[0;32m~/Library/Python/3.8/lib/python/site-packages/torch/utils/data/_utils/fetch.py:49\u001b[0m, in \u001b[0;36m_MapDatasetFetcher.fetch\u001b[0;34m(self, possibly_batched_index)\u001b[0m\n\u001b[1;32m     <a href='file:///Users/idasol/Library/Python/3.8/lib/python/site-packages/torch/utils/data/_utils/fetch.py?line=46'>47</a>\u001b[0m \u001b[39mdef\u001b[39;00m \u001b[39mfetch\u001b[39m(\u001b[39mself\u001b[39m, possibly_batched_index):\n\u001b[1;32m     <a href='file:///Users/idasol/Library/Python/3.8/lib/python/site-packages/torch/utils/data/_utils/fetch.py?line=47'>48</a>\u001b[0m     \u001b[39mif\u001b[39;00m \u001b[39mself\u001b[39m\u001b[39m.\u001b[39mauto_collation:\n\u001b[0;32m---> <a href='file:///Users/idasol/Library/Python/3.8/lib/python/site-packages/torch/utils/data/_utils/fetch.py?line=48'>49</a>\u001b[0m         data \u001b[39m=\u001b[39m [\u001b[39mself\u001b[39m\u001b[39m.\u001b[39mdataset[idx] \u001b[39mfor\u001b[39;00m idx \u001b[39min\u001b[39;00m possibly_batched_index]\n\u001b[1;32m     <a href='file:///Users/idasol/Library/Python/3.8/lib/python/site-packages/torch/utils/data/_utils/fetch.py?line=49'>50</a>\u001b[0m     \u001b[39melse\u001b[39;00m:\n\u001b[1;32m     <a href='file:///Users/idasol/Library/Python/3.8/lib/python/site-packages/torch/utils/data/_utils/fetch.py?line=50'>51</a>\u001b[0m         data \u001b[39m=\u001b[39m \u001b[39mself\u001b[39m\u001b[39m.\u001b[39mdataset[possibly_batched_index]\n",
      "File \u001b[0;32m~/Library/Python/3.8/lib/python/site-packages/torch/utils/data/_utils/fetch.py:49\u001b[0m, in \u001b[0;36m<listcomp>\u001b[0;34m(.0)\u001b[0m\n\u001b[1;32m     <a href='file:///Users/idasol/Library/Python/3.8/lib/python/site-packages/torch/utils/data/_utils/fetch.py?line=46'>47</a>\u001b[0m \u001b[39mdef\u001b[39;00m \u001b[39mfetch\u001b[39m(\u001b[39mself\u001b[39m, possibly_batched_index):\n\u001b[1;32m     <a href='file:///Users/idasol/Library/Python/3.8/lib/python/site-packages/torch/utils/data/_utils/fetch.py?line=47'>48</a>\u001b[0m     \u001b[39mif\u001b[39;00m \u001b[39mself\u001b[39m\u001b[39m.\u001b[39mauto_collation:\n\u001b[0;32m---> <a href='file:///Users/idasol/Library/Python/3.8/lib/python/site-packages/torch/utils/data/_utils/fetch.py?line=48'>49</a>\u001b[0m         data \u001b[39m=\u001b[39m [\u001b[39mself\u001b[39;49m\u001b[39m.\u001b[39;49mdataset[idx] \u001b[39mfor\u001b[39;00m idx \u001b[39min\u001b[39;00m possibly_batched_index]\n\u001b[1;32m     <a href='file:///Users/idasol/Library/Python/3.8/lib/python/site-packages/torch/utils/data/_utils/fetch.py?line=49'>50</a>\u001b[0m     \u001b[39melse\u001b[39;00m:\n\u001b[1;32m     <a href='file:///Users/idasol/Library/Python/3.8/lib/python/site-packages/torch/utils/data/_utils/fetch.py?line=50'>51</a>\u001b[0m         data \u001b[39m=\u001b[39m \u001b[39mself\u001b[39m\u001b[39m.\u001b[39mdataset[possibly_batched_index]\n",
      "\u001b[1;32m/Users/idasol/Desktop/Visual Studio Projects/onsets_and_frames/baseline.ipynb Cell 5'\u001b[0m in \u001b[0;36mMAPSDataset.__getitem__\u001b[0;34m(self, idx)\u001b[0m\n\u001b[1;32m     <a href='vscode-notebook-cell:/Users/idasol/Desktop/Visual%20Studio%20Projects/onsets_and_frames/baseline.ipynb#ch0000004?line=63'>64</a>\u001b[0m \u001b[39mdef\u001b[39;00m \u001b[39m__getitem__\u001b[39m(\u001b[39mself\u001b[39m, idx):\n\u001b[1;32m     <a href='vscode-notebook-cell:/Users/idasol/Desktop/Visual%20Studio%20Projects/onsets_and_frames/baseline.ipynb#ch0000004?line=64'>65</a>\u001b[0m     roll \u001b[39m=\u001b[39m \u001b[39mself\u001b[39m\u001b[39m.\u001b[39mroll[idx]        \n\u001b[0;32m---> <a href='vscode-notebook-cell:/Users/idasol/Desktop/Visual%20Studio%20Projects/onsets_and_frames/baseline.ipynb#ch0000004?line=65'>66</a>\u001b[0m     start \u001b[39m=\u001b[39m random\u001b[39m.\u001b[39;49mrandint(\u001b[39m0\u001b[39;49m, \u001b[39mlen\u001b[39;49m(roll[\u001b[39m0\u001b[39;49m][\u001b[39m0\u001b[39;49m]) \u001b[39m-\u001b[39;49m \u001b[39mint\u001b[39;49m((\u001b[39mself\u001b[39;49m\u001b[39m.\u001b[39;49msr \u001b[39m*\u001b[39;49m \u001b[39m25\u001b[39;49m) \u001b[39m/\u001b[39;49m \u001b[39m512\u001b[39;49m) \u001b[39m-\u001b[39;49m \u001b[39m1\u001b[39;49m) \u001b[39m# 이 부분 체크\u001b[39;00m\n\u001b[1;32m     <a href='vscode-notebook-cell:/Users/idasol/Desktop/Visual%20Studio%20Projects/onsets_and_frames/baseline.ipynb#ch0000004?line=66'>67</a>\u001b[0m     end \u001b[39m=\u001b[39m \u001b[39mint\u001b[39m(start \u001b[39m+\u001b[39m ((\u001b[39mself\u001b[39m\u001b[39m.\u001b[39msr \u001b[39m*\u001b[39m \u001b[39m20\u001b[39m) \u001b[39m/\u001b[39m \u001b[39m512\u001b[39m))     \n\u001b[1;32m     <a href='vscode-notebook-cell:/Users/idasol/Desktop/Visual%20Studio%20Projects/onsets_and_frames/baseline.ipynb#ch0000004?line=67'>68</a>\u001b[0m     sliced_roll \u001b[39m=\u001b[39m roll[:, :, start:end]\n",
      "File \u001b[0;32m/Library/Developer/CommandLineTools/Library/Frameworks/Python3.framework/Versions/3.8/lib/python3.8/random.py:248\u001b[0m, in \u001b[0;36mRandom.randint\u001b[0;34m(self, a, b)\u001b[0m\n\u001b[1;32m    <a href='file:///Library/Developer/CommandLineTools/Library/Frameworks/Python3.framework/Versions/3.8/lib/python3.8/random.py?line=243'>244</a>\u001b[0m \u001b[39mdef\u001b[39;00m \u001b[39mrandint\u001b[39m(\u001b[39mself\u001b[39m, a, b):\n\u001b[1;32m    <a href='file:///Library/Developer/CommandLineTools/Library/Frameworks/Python3.framework/Versions/3.8/lib/python3.8/random.py?line=244'>245</a>\u001b[0m     \u001b[39m\"\"\"Return random integer in range [a, b], including both end points.\u001b[39;00m\n\u001b[1;32m    <a href='file:///Library/Developer/CommandLineTools/Library/Frameworks/Python3.framework/Versions/3.8/lib/python3.8/random.py?line=245'>246</a>\u001b[0m \u001b[39m    \"\"\"\u001b[39;00m\n\u001b[0;32m--> <a href='file:///Library/Developer/CommandLineTools/Library/Frameworks/Python3.framework/Versions/3.8/lib/python3.8/random.py?line=247'>248</a>\u001b[0m     \u001b[39mreturn\u001b[39;00m \u001b[39mself\u001b[39;49m\u001b[39m.\u001b[39;49mrandrange(a, b\u001b[39m+\u001b[39;49m\u001b[39m1\u001b[39;49m)\n",
      "File \u001b[0;32m/Library/Developer/CommandLineTools/Library/Frameworks/Python3.framework/Versions/3.8/lib/python3.8/random.py:226\u001b[0m, in \u001b[0;36mRandom.randrange\u001b[0;34m(self, start, stop, step, _int)\u001b[0m\n\u001b[1;32m    <a href='file:///Library/Developer/CommandLineTools/Library/Frameworks/Python3.framework/Versions/3.8/lib/python3.8/random.py?line=223'>224</a>\u001b[0m     \u001b[39mreturn\u001b[39;00m istart \u001b[39m+\u001b[39m \u001b[39mself\u001b[39m\u001b[39m.\u001b[39m_randbelow(width)\n\u001b[1;32m    <a href='file:///Library/Developer/CommandLineTools/Library/Frameworks/Python3.framework/Versions/3.8/lib/python3.8/random.py?line=224'>225</a>\u001b[0m \u001b[39mif\u001b[39;00m step \u001b[39m==\u001b[39m \u001b[39m1\u001b[39m:\n\u001b[0;32m--> <a href='file:///Library/Developer/CommandLineTools/Library/Frameworks/Python3.framework/Versions/3.8/lib/python3.8/random.py?line=225'>226</a>\u001b[0m     \u001b[39mraise\u001b[39;00m \u001b[39mValueError\u001b[39;00m(\u001b[39m\"\u001b[39m\u001b[39mempty range for randrange() (\u001b[39m\u001b[39m%d\u001b[39;00m\u001b[39m, \u001b[39m\u001b[39m%d\u001b[39;00m\u001b[39m, \u001b[39m\u001b[39m%d\u001b[39;00m\u001b[39m)\u001b[39m\u001b[39m\"\u001b[39m \u001b[39m%\u001b[39m (istart, istop, width))\n\u001b[1;32m    <a href='file:///Library/Developer/CommandLineTools/Library/Frameworks/Python3.framework/Versions/3.8/lib/python3.8/random.py?line=227'>228</a>\u001b[0m \u001b[39m# Non-unit step argument supplied.\u001b[39;00m\n\u001b[1;32m    <a href='file:///Library/Developer/CommandLineTools/Library/Frameworks/Python3.framework/Versions/3.8/lib/python3.8/random.py?line=228'>229</a>\u001b[0m istep \u001b[39m=\u001b[39m _int(step)\n",
      "\u001b[0;31mValueError\u001b[0m: empty range for randrange() (0, -38, -38)"
     ]
    }
   ],
   "source": [
    "model = OnsetAndFrameModel()\n",
    "optimizer = torch.optim.Adam(model.parameters())\n",
    "num_epochs = 5\n",
    "loss_record = []\n",
    "test_record = []\n",
    "model.train()\n",
    "\n",
    "for epoch in  tqdm(range(num_epochs)):\n",
    "    for batch in tqdm(train_loader, leave=False):\n",
    "        audio, roll = batch\n",
    "        out = model(audio)\n",
    "        loss = get_binary_cross_entropy_loss(out[..., :-1], roll[0, 0])\n",
    "        loss.backward()\n",
    "\n",
    "        optimizer.step()\n",
    "        optimizer.zero_grad()\n",
    "        loss_record.append(loss.item())\n",
    "    model.eval()\n",
    "    with torch.no_grad():\n",
    "        epoch_loss = 0\n",
    "        for batch in test_loader:\n",
    "            audio, roll = batch\n",
    "            out = model(audio)\n",
    "            loss = get_binary_cross_entropy_loss(out[..., :-1], roll[0, 0])\n",
    "            # test_record.append(loss.item())\n",
    "            epoch_loss += loss.item()\n",
    "        test_record.append(epoch_loss / len(test_loader))\n",
    "    model.train()\n"
   ]
  },
  {
   "cell_type": "code",
   "execution_count": null,
   "metadata": {},
   "outputs": [
    {
     "data": {
      "text/plain": [
       "[<matplotlib.lines.Line2D at 0x174cba6d0>]"
      ]
     },
     "execution_count": 83,
     "metadata": {},
     "output_type": "execute_result"
    },
    {
     "data": {
      "image/png": "[encoded data removed]",
      "text/plain": [
       "<Figure size 432x288 with 1 Axes>"
      ]
     },
     "metadata": {
      "needs_background": "light"
     },
     "output_type": "display_data"
    }
   ],
   "source": [
    "plt.plot(loss_record)"
   ]
  },
  {
   "cell_type": "code",
   "execution_count": null,
   "metadata": {},
   "outputs": [
    {
     "data": {
      "text/plain": [
       "[<matplotlib.lines.Line2D at 0x172a25d00>]"
      ]
     },
     "execution_count": 84,
     "metadata": {},
     "output_type": "execute_result"
    },
    {
     "data": {
      "image/png": "[encoded data removed]",
      "text/plain": [
       "<Figure size 432x288 with 1 Axes>"
      ]
     },
     "metadata": {
      "needs_background": "light"
     },
     "output_type": "display_data"
    }
   ],
   "source": [
    "plt.plot(test_record)"
   ]
  }
 ],
 "metadata": {
  "interpreter": {
   "hash": "31f2aee4e71d21fbe5cf8b01ff0e069b9275f58929596ceb00d14d90e3e16cd6"
  },
  "kernelspec": {
   "display_name": "Python 3.8.9 64-bit",
   "language": "python",
   "name": "python3"
  },
  "language_info": {
   "codemirror_mode": {
    "name": "ipython",
    "version": 3
   },
   "file_extension": ".py",
   "mimetype": "text/x-python",
   "name": "python",
   "nbconvert_exporter": "python",
   "pygments_lexer": "ipython3",
   "version": "3.8.9"
  },
  "orig_nbformat": 4
 },
 "nbformat": 4,
 "nbformat_minor": 2
}
